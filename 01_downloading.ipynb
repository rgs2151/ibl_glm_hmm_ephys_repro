{
 "cells": [
  {
   "cell_type": "code",
   "execution_count": 1,
   "metadata": {},
   "outputs": [],
   "source": [
    "# import brainbox\n",
    "from utils import download_glm_hmm, save_data_path\n",
    "from one.api import ONE\n",
    "import pandas as pd\n",
    "import numpy as np\n",
    "import matplotlib.pyplot as plt\n",
    "import seaborn as sns\n",
    "import cv2\n",
    "# pd.set_option('display.max_colwidth', None)"
   ]
  },
  {
   "cell_type": "code",
   "execution_count": 2,
   "metadata": {},
   "outputs": [],
   "source": [
    "# ONE base_url = https://openalyx.internationalbrainlab.org\n",
    "# ALYX_LOGIN USER = intbrainlab\n",
    "# FlatIron Password = international\n",
    "\n",
    "# from one.api import ONE\n",
    "# ONE.setup(base_url='https://openalyx.internationalbrainlab.org', make_default=True)"
   ]
  },
  {
   "cell_type": "code",
   "execution_count": 3,
   "metadata": {},
   "outputs": [],
   "source": [
    "one = ONE(password='international')"
   ]
  },
  {
   "cell_type": "code",
   "execution_count": 4,
   "metadata": {},
   "outputs": [],
   "source": [
    "ephys_eid = [\n",
    "    'db4df448-e449-4a6f-a0e7-288711e7a75a',  # Berkeley\n",
    "    'd23a44ef-1402-4ed7-97f5-47e9a7a504d9',  # Berkeley\n",
    "    '4a45c8ba-db6f-4f11-9403-56e06a33dfa4',  # Berkeley\n",
    "    'e535fb62-e245-4a48-b119-88ce62a6fe67',  # Berkeley\n",
    "    '54238fd6-d2d0-4408-b1a9-d19d24fd29ce',  # Berkeley\n",
    "    'b03fbc44-3d8e-4a6c-8a50-5ea3498568e0',  # Berkeley\n",
    "    '30c4e2ab-dffc-499d-aae4-e51d6b3218c2',  # CCU\n",
    "    'd0ea3148-948d-4817-94f8-dcaf2342bbbe',  # CCU\n",
    "    'a4a74102-2af5-45dc-9e41-ef7f5aed88be',  # CCU\n",
    "    '746d1902-fa59-4cab-b0aa-013be36060d5',  # CCU\n",
    "    '88224abb-5746-431f-9c17-17d7ef806e6a',  # CCU\n",
    "    '0802ced5-33a3-405e-8336-b65ebc5cb07c',  # CCU\n",
    "    'ee40aece-cffd-4edb-a4b6-155f158c666a',  # CCU\n",
    "    'c7248e09-8c0d-40f2-9eb4-700a8973d8c8',  # CCU\n",
    "    '72cb5550-43b4-4ef0-add5-e4adfdfb5e02',  # CCU\n",
    "    'dda5fc59-f09a-4256-9fb5-66c67667a466',  # CSHL(C)\n",
    "    '4b7fbad4-f6de-43b4-9b15-c7c7ef44db4b',  # CSHL(C)\n",
    "    'f312aaec-3b6f-44b3-86b4-3a0c119c0438',  # CSHL(C)\n",
    "    '4b00df29-3769-43be-bb40-128b1cba6d35',  # CSHL(C)\n",
    "    'ecb5520d-1358-434c-95ec-93687ecd1396',  # CSHL(C)\n",
    "    '51e53aff-1d5d-4182-a684-aba783d50ae5',  # NYU\n",
    "    'f140a2ec-fd49-4814-994a-fe3476f14e66',  # NYU\n",
    "    'a8a8af78-16de-4841-ab07-fde4b5281a03',  # NYU\n",
    "    '61e11a11-ab65-48fb-ae08-3cb80662e5d6',  # NYU\n",
    "    '73918ae1-e4fd-4c18-b132-00cb555b1ad2',  # Princeton\n",
    "    'd9f0c293-df4c-410a-846d-842e47c6b502',  # Princeton\n",
    "    'dac3a4c1-b666-4de0-87e8-8c514483cacf',  # SWC(H)\n",
    "    '6f09ba7e-e3ce-44b0-932b-c003fb44fb89',  # SWC(H)\n",
    "    '56b57c38-2699-4091-90a8-aba35103155e',  # SWC(M)\n",
    "    '3638d102-e8b6-4230-8742-e548cd87a949',  # SWC(M)\n",
    "    '7cb81727-2097-4b52-b480-c89867b5b34c',  # SWC(M)\n",
    "    '781b35fd-e1f0-4d14-b2bb-95b7263082bb',  # UCL\n",
    "    '3f859b5c-e73a-4044-b49e-34bb81e96715',  # UCL\n",
    "    'b22f694e-4a34-4142-ab9d-2556c3487086',  # UCL\n",
    "    '0a018f12-ee06-4b11-97aa-bbbff5448e9f',  # UCL\n",
    "    'aad23144-0e52-4eac-80c5-c4ee2decb198',  # UCL\n",
    "    'b196a2ad-511b-4e90-ac99-b5a29ad25c22',  # UCL\n",
    "    'e45481fa-be22-4365-972c-e7404ed8ab5a',  # UCL\n",
    "    'd04feec7-d0b7-4f35-af89-0232dd975bf0',  # UCL\n",
    "    '1b715600-0cbc-442c-bd00-5b0ac2865de1',  # UCL\n",
    "    'c7bf2d49-4937-4597-b307-9f39cb1c7b16',  # UCL\n",
    "    '8928f98a-b411-497e-aa4b-aa752434686d',  # UCL\n",
    "    'ebce500b-c530-47de-8cb1-963c552703ea',  # UCLA\n",
    "    'dc962048-89bb-4e6a-96a9-b062a2be1426',  # UCLA\n",
    "    '6899a67d-2e53-4215-a52a-c7021b5da5d4',  # UCLA\n",
    "    '15b69921-d471-4ded-8814-2adad954bcd8',  # UCLA\n",
    "    '5ae68c54-2897-4d3a-8120-426150704385',  # UCLA\n",
    "    'ca4ecb4c-4b60-4723-9b9e-2c54a6290a53',  # UCLA\n",
    "    '824cf03d-4012-4ab1-b499-c83a92c5589e',  # UCLA\n",
    "    '3bcb81b4-d9ca-4fc9-a1cd-353a966239ca',  # UW\n",
    "    'f115196e-8dfe-4d2a-8af3-8206d93c1729',  # UW\n",
    "    '9b528ad0-4599-4a55-9148-96cc1d93fb24',  # UW\n",
    "    '3e6a97d3-3991-49e2-b346-6948cb4580fb',  # UW\n",
    "]"
   ]
  },
  {
   "cell_type": "code",
   "execution_count": 5,
   "metadata": {},
   "outputs": [],
   "source": [
    "# for eid in ephys_eid:\n",
    "#     print(one.eid2path(eid))"
   ]
  },
  {
   "cell_type": "code",
   "execution_count": 6,
   "metadata": {},
   "outputs": [],
   "source": [
    "# Finda all the datasets attached to this session\n",
    "# eid = \"db4df448-e449-4a6f-a0e7-288711e7a75a\"\n",
    "# one.list_datasets(\"db4df448-e449-4a6f-a0e7-288711e7a75a\")\n",
    "\n",
    "# Tells the details of one of such datasets. get names from above command\n",
    "# one.describe_dataset('_ibl_leftCamera.lightningPose.pqt')\n",
    "# one.describe_dataset('_ibl_leftCamera.features.pqt')\n",
    "# one.describe_dataset('_ibl_leftCamera.times.npy') # We are intrested in this one\n",
    "# one.describe_dataset('_iblrig_leftCamera.raw.mp4') # and this one\n",
    "\n",
    "# this will download the dataset to the local machine. will return the file if download only is ignored.\n",
    "# one.load_dataset(eid, f'*leftCamera.raw*', collection='raw_video_data', download_only=True)\n",
    "\n",
    "# All the collections attached to the session or if u remove the seeion then it will tell you all the collections total\n",
    "# one.list_collections(eid)"
   ]
  },
  {
   "cell_type": "code",
   "execution_count": 8,
   "metadata": {},
   "outputs": [],
   "source": [
    "# download all the data we need\n",
    "# for eid in ephys_eid:\n",
    "#     one.load_dataset(eid, f'*leftCamera.times.npy', collection='alf')\n",
    "#     one.load_dataset(eid, f'*leftCamera.raw.mp4', collection='raw_video_data', download_only=True)"
   ]
  },
  {
   "cell_type": "code",
   "execution_count": 83,
   "metadata": {},
   "outputs": [
    {
     "name": "stderr",
     "output_type": "stream",
     "text": [
      "/home/nuttidalab/Downloads/ONE/openalyx.internationalbrainlab.org/danlab/Subjects/DY_016/2020-09-12/001/alf/_ibl_trials.goCueTrigger_times.npy: 100%|██████████| 3.41k/3.41k [00:00<00:00, 44.9kB/s]\n",
      "/home/nuttidalab/Downloads/ONE/openalyx.internationalbrainlab.org/danlab/Subjects/DY_016/2020-09-12/001/alf/_ibl_trials.table.pqt: 100%|██████████| 37.0k/37.0k [00:00<00:00, 649kB/s]\n",
      "/home/nuttidalab/Downloads/ONE/openalyx.internationalbrainlab.org/danlab/Subjects/DY_016/2020-09-12/001/alf/_ibl_trials.stimOff_times.npy: 100%|██████████| 3.41k/3.41k [00:00<00:00, 46.2kB/s]\n",
      "/home/nuttidalab/Downloads/ONE/openalyx.internationalbrainlab.org/danlab/Subjects/DY_020/2020-09-29/001/alf/_ibl_trials.goCueTrigger_times.npy: 100%|██████████| 3.34k/3.34k [00:00<00:00, 47.8kB/s]\n",
      "/home/nuttidalab/Downloads/ONE/openalyx.internationalbrainlab.org/danlab/Subjects/DY_020/2020-09-29/001/alf/_ibl_trials.stimOff_times.npy: 100%|██████████| 3.34k/3.34k [00:00<00:00, 44.2kB/s]\n",
      "/home/nuttidalab/Downloads/ONE/openalyx.internationalbrainlab.org/danlab/Subjects/DY_020/2020-09-29/001/alf/_ibl_trials.table.pqt: 100%|██████████| 36.4k/36.4k [00:00<00:00, 502kB/s]\n",
      "/home/nuttidalab/Downloads/ONE/openalyx.internationalbrainlab.org/danlab/Subjects/DY_013/2020-03-12/001/alf/_ibl_trials.table.pqt: 100%|██████████| 38.6k/38.6k [00:00<00:00, 313kB/s]\n",
      "/home/nuttidalab/Downloads/ONE/openalyx.internationalbrainlab.org/danlab/Subjects/DY_013/2020-03-12/001/alf/_ibl_trials.goCueTrigger_times.npy: 100%|██████████| 3.60k/3.60k [00:00<00:00, 61.7kB/s]\n",
      "/home/nuttidalab/Downloads/ONE/openalyx.internationalbrainlab.org/danlab/Subjects/DY_013/2020-03-12/001/alf/_ibl_trials.stimOff_times.npy: 100%|██████████| 3.60k/3.60k [00:00<00:00, 63.4kB/s]\n",
      "/home/nuttidalab/Downloads/ONE/openalyx.internationalbrainlab.org/danlab/Subjects/DY_018/2020-10-15/001/alf/_ibl_trials.stimOff_times.npy: 100%|██████████| 5.11k/5.11k [00:00<00:00, 80.7kB/s]\n",
      "/home/nuttidalab/Downloads/ONE/openalyx.internationalbrainlab.org/danlab/Subjects/DY_018/2020-10-15/001/alf/_ibl_trials.table.pqt: 100%|██████████| 51.4k/51.4k [00:00<00:00, 845kB/s]\n",
      "/home/nuttidalab/Downloads/ONE/openalyx.internationalbrainlab.org/danlab/Subjects/DY_018/2020-10-15/001/alf/_ibl_trials.goCueTrigger_times.npy: 100%|██████████| 5.11k/5.11k [00:00<00:00, 33.5kB/s]\n",
      "/home/nuttidalab/Downloads/ONE/openalyx.internationalbrainlab.org/danlab/Subjects/DY_010/2020-01-27/001/alf/_ibl_trials.goCueTrigger_times.npy: 100%|██████████| 3.34k/3.34k [00:00<00:00, 29.0kB/s]\n",
      "/home/nuttidalab/Downloads/ONE/openalyx.internationalbrainlab.org/danlab/Subjects/DY_010/2020-01-27/001/alf/_ibl_trials.stimOff_times.npy: 100%|██████████| 3.34k/3.34k [00:00<00:00, 21.5kB/s]\n",
      "/home/nuttidalab/Downloads/ONE/openalyx.internationalbrainlab.org/danlab/Subjects/DY_010/2020-01-27/001/alf/_ibl_trials.table.pqt: 100%|██████████| 36.2k/36.2k [00:00<00:00, 471kB/s]\n",
      "/home/nuttidalab/Downloads/ONE/openalyx.internationalbrainlab.org/mainenlab/Subjects/ZFM-02370/2021-04-29/001/alf/_ibl_trials.goCueTrigger_times.npy: 100%|██████████| 6.86k/6.86k [00:00<00:00, 139kB/s]\n",
      "/home/nuttidalab/Downloads/ONE/openalyx.internationalbrainlab.org/mainenlab/Subjects/ZFM-02370/2021-04-29/001/alf/_ibl_trials.table.pqt: 100%|██████████| 65.8k/65.8k [00:00<00:00, 930kB/s]\n",
      "/home/nuttidalab/Downloads/ONE/openalyx.internationalbrainlab.org/mainenlab/Subjects/ZFM-02370/2021-04-29/001/alf/_ibl_trials.stimOff_times.npy: 100%|██████████| 6.86k/6.86k [00:00<00:00, 91.6kB/s]\n",
      "/home/nuttidalab/Downloads/ONE/openalyx.internationalbrainlab.org/mainenlab/Subjects/ZFM-01936/2021-01-19/001/alf/_ibl_trials.stimOff_times.npy: 100%|██████████| 4.61k/4.61k [00:00<00:00, 60.0kB/s]\n",
      "/home/nuttidalab/Downloads/ONE/openalyx.internationalbrainlab.org/mainenlab/Subjects/ZFM-01936/2021-01-19/001/alf/_ibl_trials.goCueTrigger_times.npy: 100%|██████████| 4.61k/4.61k [00:00<00:00, 85.2kB/s]\n",
      "/home/nuttidalab/Downloads/ONE/openalyx.internationalbrainlab.org/mainenlab/Subjects/ZFM-01936/2021-01-19/001/alf/_ibl_trials.table.pqt: 100%|██████████| 47.2k/47.2k [00:00<00:00, 385kB/s]\n",
      "/home/nuttidalab/Downloads/ONE/openalyx.internationalbrainlab.org/mainenlab/Subjects/ZFM-02368/2021-06-01/001/alf/_ibl_trials.stimOff_times.npy: 100%|██████████| 3.39k/3.39k [00:00<00:00, 34.7kB/s]\n",
      "/home/nuttidalab/Downloads/ONE/openalyx.internationalbrainlab.org/mainenlab/Subjects/ZFM-02368/2021-06-01/001/alf/_ibl_trials.table.pqt: 100%|██████████| 36.8k/36.8k [00:00<00:00, 603kB/s]\n",
      "/home/nuttidalab/Downloads/ONE/openalyx.internationalbrainlab.org/mainenlab/Subjects/ZFM-02368/2021-06-01/001/alf/_ibl_trials.goCueTrigger_times.npy: 100%|██████████| 3.39k/3.39k [00:00<00:00, 42.6kB/s]\n",
      "/home/nuttidalab/Downloads/ONE/openalyx.internationalbrainlab.org/mainenlab/Subjects/ZFM-01592/2020-10-20/001/alf/_ibl_trials.stimOff_times.npy: 100%|██████████| 5.41k/5.41k [00:00<00:00, 40.6kB/s]\n",
      "/home/nuttidalab/Downloads/ONE/openalyx.internationalbrainlab.org/mainenlab/Subjects/ZFM-01592/2020-10-20/001/alf/_ibl_trials.table.pqt: 100%|██████████| 53.8k/53.8k [00:00<00:00, 821kB/s]\n",
      "/home/nuttidalab/Downloads/ONE/openalyx.internationalbrainlab.org/mainenlab/Subjects/ZFM-01592/2020-10-20/001/alf/_ibl_trials.goCueTrigger_times.npy: 100%|██████████| 5.41k/5.41k [00:00<00:00, 93.0kB/s]\n",
      "/home/nuttidalab/Downloads/ONE/openalyx.internationalbrainlab.org/mainenlab/Subjects/ZFM-02372/2021-06-01/002/alf/_ibl_trials.table.pqt: 100%|██████████| 39.5k/39.5k [00:00<00:00, 360kB/s]\n",
      "/home/nuttidalab/Downloads/ONE/openalyx.internationalbrainlab.org/mainenlab/Subjects/ZFM-02372/2021-06-01/002/alf/_ibl_trials.stimOff_times.npy: 100%|██████████| 3.74k/3.74k [00:00<00:00, 70.7kB/s]\n",
      "/home/nuttidalab/Downloads/ONE/openalyx.internationalbrainlab.org/mainenlab/Subjects/ZFM-02372/2021-06-01/002/alf/_ibl_trials.goCueTrigger_times.npy: 100%|██████████| 3.74k/3.74k [00:00<00:00, 68.4kB/s]\n",
      "/home/nuttidalab/Downloads/ONE/openalyx.internationalbrainlab.org/mainenlab/Subjects/ZFM-02373/2021-06-23/001/alf/_ibl_trials.stimOff_times.npy: 100%|██████████| 3.52k/3.52k [00:00<00:00, 72.1kB/s]\n",
      "/home/nuttidalab/Downloads/ONE/openalyx.internationalbrainlab.org/mainenlab/Subjects/ZFM-02373/2021-06-23/001/alf/_ibl_trials.table.pqt: 100%|██████████| 37.9k/37.9k [00:00<00:00, 327kB/s]\n",
      "/home/nuttidalab/Downloads/ONE/openalyx.internationalbrainlab.org/mainenlab/Subjects/ZFM-02373/2021-06-23/001/alf/_ibl_trials.goCueTrigger_times.npy: 100%|██████████| 3.52k/3.52k [00:00<00:00, 40.5kB/s]\n",
      "/home/nuttidalab/Downloads/ONE/openalyx.internationalbrainlab.org/mainenlab/Subjects/ZM_2241/2020-01-30/001/alf/_ibl_trials.table.pqt: 100%|██████████| 75.9k/75.9k [00:00<00:00, 342kB/s]\n",
      "/home/nuttidalab/Downloads/ONE/openalyx.internationalbrainlab.org/mainenlab/Subjects/ZM_2241/2020-01-30/001/alf/_ibl_trials.stimOff_times.npy: 100%|██████████| 8.08k/8.08k [00:00<00:00, 121kB/s]\n",
      "/home/nuttidalab/Downloads/ONE/openalyx.internationalbrainlab.org/mainenlab/Subjects/ZM_2241/2020-01-30/001/alf/_ibl_trials.goCueTrigger_times.npy: 100%|██████████| 8.08k/8.08k [00:00<00:00, 115kB/s]\n",
      "/home/nuttidalab/Downloads/ONE/openalyx.internationalbrainlab.org/mainenlab/Subjects/ZM_3001/2020-08-05/001/alf/_ibl_trials.table.pqt: 100%|██████████| 61.7k/61.7k [00:00<00:00, 1.14MB/s]\n",
      "/home/nuttidalab/Downloads/ONE/openalyx.internationalbrainlab.org/mainenlab/Subjects/ZM_3001/2020-08-05/001/alf/_ibl_trials.stimOff_times.npy: 100%|██████████| 6.37k/6.37k [00:00<00:00, 110kB/s]\n",
      "/home/nuttidalab/Downloads/ONE/openalyx.internationalbrainlab.org/mainenlab/Subjects/ZM_3001/2020-08-05/001/alf/_ibl_trials.goCueTrigger_times.npy: 100%|██████████| 6.37k/6.37k [00:00<00:00, 110kB/s]\n",
      "/home/nuttidalab/Downloads/ONE/openalyx.internationalbrainlab.org/mainenlab/Subjects/ZFM-02369/2021-05-19/001/alf/_ibl_trials.stimOff_times.npy: 100%|██████████| 5.99k/5.99k [00:00<00:00, 82.3kB/s]\n",
      "/home/nuttidalab/Downloads/ONE/openalyx.internationalbrainlab.org/mainenlab/Subjects/ZFM-02369/2021-05-19/001/alf/_ibl_trials.table.pqt: 100%|██████████| 58.2k/58.2k [00:00<00:00, 711kB/s]\n",
      "/home/nuttidalab/Downloads/ONE/openalyx.internationalbrainlab.org/mainenlab/Subjects/ZFM-02369/2021-05-19/001/alf/_ibl_trials.goCueTrigger_times.npy: 100%|██████████| 5.99k/5.99k [00:00<00:00, 78.6kB/s]\n",
      "/home/nuttidalab/Downloads/ONE/openalyx.internationalbrainlab.org/churchlandlab/Subjects/CSHL059/2020-03-06/001/alf/_ibl_trials.table.pqt: 100%|██████████| 59.9k/59.9k [00:00<00:00, 668kB/s]\n",
      "/home/nuttidalab/Downloads/ONE/openalyx.internationalbrainlab.org/churchlandlab/Subjects/CSHL059/2020-03-06/001/alf/_ibl_trials.stimOff_times.npy: 100%|██████████| 6.14k/6.14k [00:00<00:00, 109kB/s]\n",
      "/home/nuttidalab/Downloads/ONE/openalyx.internationalbrainlab.org/churchlandlab/Subjects/CSHL059/2020-03-06/001/alf/_ibl_trials.goCueTrigger_times.npy: 100%|██████████| 6.14k/6.14k [00:00<00:00, 116kB/s]\n",
      "/home/nuttidalab/Downloads/ONE/openalyx.internationalbrainlab.org/churchlandlab/Subjects/CSHL049/2020-01-08/001/alf/_ibl_trials.stimOff_times.npy: 100%|██████████| 6.86k/6.86k [00:00<00:00, 107kB/s]\n",
      "/home/nuttidalab/Downloads/ONE/openalyx.internationalbrainlab.org/churchlandlab/Subjects/CSHL049/2020-01-08/001/alf/_ibl_trials.table.pqt: 100%|██████████| 64.8k/64.8k [00:00<00:00, 632kB/s]\n",
      "/home/nuttidalab/Downloads/ONE/openalyx.internationalbrainlab.org/churchlandlab/Subjects/CSHL049/2020-01-08/001/alf/_ibl_trials.goCueTrigger_times.npy: 100%|██████████| 6.86k/6.86k [00:00<00:00, 121kB/s]\n",
      "/home/nuttidalab/Downloads/ONE/openalyx.internationalbrainlab.org/churchlandlab/Subjects/CSHL058/2020-07-07/001/alf/_ibl_trials.goCueTrigger_times.npy: 100%|██████████| 5.14k/5.14k [00:00<00:00, 45.3kB/s]\n",
      "/home/nuttidalab/Downloads/ONE/openalyx.internationalbrainlab.org/churchlandlab/Subjects/CSHL058/2020-07-07/001/alf/_ibl_trials.table.pqt: 100%|██████████| 51.7k/51.7k [00:00<00:00, 334kB/s]\n",
      "/home/nuttidalab/Downloads/ONE/openalyx.internationalbrainlab.org/churchlandlab/Subjects/CSHL058/2020-07-07/001/alf/_ibl_trials.stimOff_times.npy: 100%|██████████| 5.14k/5.14k [00:00<00:00, 77.2kB/s]\n",
      "/home/nuttidalab/Downloads/ONE/openalyx.internationalbrainlab.org/churchlandlab/Subjects/CSHL052/2020-02-21/001/alf/_ibl_trials.stimOff_times.npy: 100%|██████████| 6.62k/6.62k [00:00<00:00, 115kB/s]\n",
      "/home/nuttidalab/Downloads/ONE/openalyx.internationalbrainlab.org/churchlandlab/Subjects/CSHL052/2020-02-21/001/alf/_ibl_trials.goCueTrigger_times.npy: 100%|██████████| 6.62k/6.62k [00:00<00:00, 108kB/s]\n",
      "/home/nuttidalab/Downloads/ONE/openalyx.internationalbrainlab.org/churchlandlab/Subjects/CSHL052/2020-02-21/001/alf/_ibl_trials.table.pqt: 100%|██████████| 63.6k/63.6k [00:00<00:00, 822kB/s]\n",
      "/home/nuttidalab/Downloads/ONE/openalyx.internationalbrainlab.org/churchlandlab/Subjects/CSHL051/2020-02-05/001/alf/_ibl_trials.stimOff_times.npy: 100%|██████████| 4.21k/4.21k [00:00<00:00, 29.0kB/s]\n",
      "/home/nuttidalab/Downloads/ONE/openalyx.internationalbrainlab.org/churchlandlab/Subjects/CSHL051/2020-02-05/001/alf/_ibl_trials.table.pqt: 100%|██████████| 42.9k/42.9k [00:00<00:00, 568kB/s]\n",
      "/home/nuttidalab/Downloads/ONE/openalyx.internationalbrainlab.org/churchlandlab/Subjects/CSHL051/2020-02-05/001/alf/_ibl_trials.goCueTrigger_times.npy: 100%|██████████| 4.21k/4.21k [00:00<00:00, 65.6kB/s]\n",
      "/home/nuttidalab/Downloads/ONE/openalyx.internationalbrainlab.org/angelakilab/Subjects/NYU-45/2021-07-19/001/alf/_ibl_trials.stimOff_times.npy: 100%|██████████| 4.17k/4.17k [00:00<00:00, 76.7kB/s]\n",
      "/home/nuttidalab/Downloads/ONE/openalyx.internationalbrainlab.org/angelakilab/Subjects/NYU-45/2021-07-19/001/alf/_ibl_trials.goCueTrigger_times.npy: 100%|██████████| 4.17k/4.17k [00:00<00:00, 71.2kB/s]\n",
      "/home/nuttidalab/Downloads/ONE/openalyx.internationalbrainlab.org/angelakilab/Subjects/NYU-45/2021-07-19/001/alf/_ibl_trials.table.pqt: 100%|██████████| 43.1k/43.1k [00:00<00:00, 630kB/s]\n",
      "/home/nuttidalab/Downloads/ONE/openalyx.internationalbrainlab.org/angelakilab/Subjects/NYU-47/2021-06-21/003/alf/_ibl_trials.table.pqt: 100%|██████████| 36.4k/36.4k [00:00<00:00, 451kB/s]\n",
      "/home/nuttidalab/Downloads/ONE/openalyx.internationalbrainlab.org/angelakilab/Subjects/NYU-47/2021-06-21/003/alf/_ibl_trials.stimOff_times.npy: 100%|██████████| 3.35k/3.35k [00:00<00:00, 67.9kB/s]\n",
      "/home/nuttidalab/Downloads/ONE/openalyx.internationalbrainlab.org/angelakilab/Subjects/NYU-47/2021-06-21/003/alf/_ibl_trials.goCueTrigger_times.npy: 100%|██████████| 3.35k/3.35k [00:00<00:00, 24.8kB/s]\n",
      "/home/nuttidalab/Downloads/ONE/openalyx.internationalbrainlab.org/angelakilab/Subjects/NYU-12/2020-01-22/001/alf/_ibl_trials.table.pqt: 100%|██████████| 46.5k/46.5k [00:00<00:00, 294kB/s]\n",
      "/home/nuttidalab/Downloads/ONE/openalyx.internationalbrainlab.org/angelakilab/Subjects/NYU-12/2020-01-22/001/alf/_ibl_trials.goCueTrigger_times.npy: 100%|██████████| 4.53k/4.53k [00:00<00:00, 93.3kB/s]\n",
      "/home/nuttidalab/Downloads/ONE/openalyx.internationalbrainlab.org/angelakilab/Subjects/NYU-12/2020-01-22/001/alf/_ibl_trials.stimOff_times.npy: 100%|██████████| 4.53k/4.53k [00:00<00:00, 45.3kB/s]\n",
      "/home/nuttidalab/Downloads/ONE/openalyx.internationalbrainlab.org/angelakilab/Subjects/NYU-21/2020-08-10/002/alf/_ibl_trials.table.pqt: 100%|██████████| 69.2k/69.2k [00:00<00:00, 1.03MB/s]\n",
      "/home/nuttidalab/Downloads/ONE/openalyx.internationalbrainlab.org/angelakilab/Subjects/NYU-21/2020-08-10/002/alf/_ibl_trials.stimOff_times.npy: 100%|██████████| 7.26k/7.26k [00:00<00:00, 83.0kB/s]\n",
      "/home/nuttidalab/Downloads/ONE/openalyx.internationalbrainlab.org/angelakilab/Subjects/NYU-21/2020-08-10/002/alf/_ibl_trials.goCueTrigger_times.npy: 100%|██████████| 7.26k/7.26k [00:00<00:00, 127kB/s]\n",
      "/home/nuttidalab/Downloads/ONE/openalyx.internationalbrainlab.org/wittenlab/Subjects/ibl_witten_27/2021-01-21/001/alf/_ibl_trials.goCueTrigger_times.npy: 100%|██████████| 5.13k/5.13k [00:00<00:00, 47.6kB/s]\n",
      "/home/nuttidalab/Downloads/ONE/openalyx.internationalbrainlab.org/wittenlab/Subjects/ibl_witten_27/2021-01-21/001/alf/_ibl_trials.stimOff_times.npy: 100%|██████████| 5.13k/5.13k [00:00<00:00, 57.2kB/s]\n",
      "/home/nuttidalab/Downloads/ONE/openalyx.internationalbrainlab.org/wittenlab/Subjects/ibl_witten_27/2021-01-21/001/alf/_ibl_trials.table.pqt: 100%|██████████| 51.6k/51.6k [00:00<00:00, 824kB/s]\n",
      "/home/nuttidalab/Downloads/ONE/openalyx.internationalbrainlab.org/wittenlab/Subjects/ibl_witten_25/2020-12-07/002/alf/_ibl_trials.goCueTrigger_times.npy: 100%|██████████| 3.34k/3.34k [00:00<00:00, 40.1kB/s]\n",
      "/home/nuttidalab/Downloads/ONE/openalyx.internationalbrainlab.org/wittenlab/Subjects/ibl_witten_25/2020-12-07/002/alf/_ibl_trials.stimOff_times.npy: 100%|██████████| 3.34k/3.34k [00:00<00:00, 40.8kB/s]\n",
      "/home/nuttidalab/Downloads/ONE/openalyx.internationalbrainlab.org/wittenlab/Subjects/ibl_witten_25/2020-12-07/002/alf/_ibl_trials.table.pqt: 100%|██████████| 36.4k/36.4k [00:00<00:00, 345kB/s]\n",
      "/home/nuttidalab/Downloads/ONE/openalyx.internationalbrainlab.org/hoferlab/Subjects/SWC_060/2020-11-24/001/alf/_ibl_trials.stimOff_times.npy: 100%|██████████| 4.14k/4.14k [00:00<00:00, 72.5kB/s]\n",
      "/home/nuttidalab/Downloads/ONE/openalyx.internationalbrainlab.org/hoferlab/Subjects/SWC_060/2020-11-24/001/alf/_ibl_trials.goCueTrigger_times.npy: 100%|██████████| 4.14k/4.14k [00:00<00:00, 48.0kB/s]\n",
      "/home/nuttidalab/Downloads/ONE/openalyx.internationalbrainlab.org/hoferlab/Subjects/SWC_060/2020-11-24/001/alf/_ibl_trials.table.pqt: 100%|██████████| 42.6k/42.6k [00:00<00:00, 511kB/s]\n",
      "/home/nuttidalab/Downloads/ONE/openalyx.internationalbrainlab.org/hoferlab/Subjects/SWC_043/2020-09-16/002/alf/_ibl_trials.table.pqt: 100%|██████████| 46.7k/46.7k [00:00<00:00, 525kB/s]\n",
      "/home/nuttidalab/Downloads/ONE/openalyx.internationalbrainlab.org/hoferlab/Subjects/SWC_043/2020-09-16/002/alf/_ibl_trials.goCueTrigger_times.npy: 100%|██████████| 4.54k/4.54k [00:00<00:00, 87.3kB/s]\n",
      "/home/nuttidalab/Downloads/ONE/openalyx.internationalbrainlab.org/hoferlab/Subjects/SWC_043/2020-09-16/002/alf/_ibl_trials.stimOff_times.npy: 100%|██████████| 4.54k/4.54k [00:00<00:00, 82.7kB/s]\n",
      "/home/nuttidalab/Downloads/ONE/openalyx.internationalbrainlab.org/mrsicflogellab/Subjects/SWC_054/2020-10-05/001/alf/_ibl_trials.stimOff_times.npy: 100%|██████████| 4.70k/4.70k [00:00<00:00, 107kB/s]\n",
      "/home/nuttidalab/Downloads/ONE/openalyx.internationalbrainlab.org/mrsicflogellab/Subjects/SWC_054/2020-10-05/001/alf/_ibl_trials.table.pqt: 100%|██████████| 48.0k/48.0k [00:00<00:00, 908kB/s]\n",
      "/home/nuttidalab/Downloads/ONE/openalyx.internationalbrainlab.org/mrsicflogellab/Subjects/SWC_054/2020-10-05/001/alf/_ibl_trials.goCueTrigger_times.npy: 100%|██████████| 4.70k/4.70k [00:00<00:00, 105kB/s]\n",
      "/home/nuttidalab/Downloads/ONE/openalyx.internationalbrainlab.org/mrsicflogellab/Subjects/SWC_058/2020-12-07/001/alf/_ibl_trials.stimOff_times.npy: 100%|██████████| 5.69k/5.69k [00:00<00:00, 87.6kB/s]\n",
      "/home/nuttidalab/Downloads/ONE/openalyx.internationalbrainlab.org/mrsicflogellab/Subjects/SWC_058/2020-12-07/001/alf/_ibl_trials.table.pqt: 100%|██████████| 56.1k/56.1k [00:00<00:00, 652kB/s]\n",
      "/home/nuttidalab/Downloads/ONE/openalyx.internationalbrainlab.org/mrsicflogellab/Subjects/SWC_058/2020-12-07/001/alf/_ibl_trials.goCueTrigger_times.npy: 100%|██████████| 5.69k/5.69k [00:00<00:00, 70.2kB/s]\n",
      "/home/nuttidalab/Downloads/ONE/openalyx.internationalbrainlab.org/mrsicflogellab/Subjects/SWC_052/2020-10-22/001/alf/_ibl_trials.stimOff_times.npy: 100%|██████████| 5.39k/5.39k [00:00<00:00, 97.6kB/s]\n",
      "/home/nuttidalab/Downloads/ONE/openalyx.internationalbrainlab.org/mrsicflogellab/Subjects/SWC_052/2020-10-22/001/alf/_ibl_trials.goCueTrigger_times.npy: 100%|██████████| 5.39k/5.39k [00:00<00:00, 77.6kB/s]\n",
      "/home/nuttidalab/Downloads/ONE/openalyx.internationalbrainlab.org/mrsicflogellab/Subjects/SWC_052/2020-10-22/001/alf/_ibl_trials.table.pqt: 100%|██████████| 53.7k/53.7k [00:00<00:00, 768kB/s]\n",
      "/home/nuttidalab/Downloads/ONE/openalyx.internationalbrainlab.org/cortexlab/Subjects/KS044/2020-12-09/001/alf/_ibl_trials.goCueTrigger_times.npy: 100%|██████████| 3.90k/3.90k [00:00<00:00, 55.1kB/s]\n",
      "/home/nuttidalab/Downloads/ONE/openalyx.internationalbrainlab.org/cortexlab/Subjects/KS044/2020-12-09/001/alf/_ibl_trials.stimOff_times.npy: 100%|██████████| 3.90k/3.90k [00:00<00:00, 58.6kB/s]\n",
      "/home/nuttidalab/Downloads/ONE/openalyx.internationalbrainlab.org/cortexlab/Subjects/KS044/2020-12-09/001/alf/_ibl_trials.table.pqt: 100%|██████████| 40.9k/40.9k [00:00<00:00, 525kB/s]\n",
      "/home/nuttidalab/Downloads/ONE/openalyx.internationalbrainlab.org/cortexlab/Subjects/KS094/2022-06-17/001/alf/_ibl_trials.stimOff_times.npy: 100%|██████████| 4.05k/4.05k [00:00<00:00, 41.4kB/s]\n",
      "/home/nuttidalab/Downloads/ONE/openalyx.internationalbrainlab.org/cortexlab/Subjects/KS094/2022-06-17/001/alf/_ibl_trials.table.pqt: 100%|██████████| 42.2k/42.2k [00:00<00:00, 598kB/s]\n",
      "/home/nuttidalab/Downloads/ONE/openalyx.internationalbrainlab.org/cortexlab/Subjects/KS094/2022-06-17/001/alf/_ibl_trials.goCueTrigger_times.npy: 100%|██████████| 4.05k/4.05k [00:00<00:00, 80.7kB/s]\n",
      "/home/nuttidalab/Downloads/ONE/openalyx.internationalbrainlab.org/cortexlab/Subjects/KS055/2021-05-02/001/alf/_ibl_trials.table.pqt: 100%|██████████| 41.2k/41.2k [00:00<00:00, 557kB/s]\n",
      "/home/nuttidalab/Downloads/ONE/openalyx.internationalbrainlab.org/cortexlab/Subjects/KS055/2021-05-02/001/alf/_ibl_trials.stimOff_times.npy: 100%|██████████| 3.97k/3.97k [00:00<00:00, 47.5kB/s]\n",
      "/home/nuttidalab/Downloads/ONE/openalyx.internationalbrainlab.org/cortexlab/Subjects/KS055/2021-05-02/001/alf/_ibl_trials.goCueTrigger_times.npy: 100%|██████████| 3.97k/3.97k [00:00<00:00, 48.2kB/s]\n",
      "/home/nuttidalab/Downloads/ONE/openalyx.internationalbrainlab.org/cortexlab/Subjects/KS051/2021-05-11/001/alf/_ibl_trials.goCueTrigger_times.npy: 100%|██████████| 3.95k/3.95k [00:00<00:00, 77.6kB/s]\n",
      "/home/nuttidalab/Downloads/ONE/openalyx.internationalbrainlab.org/cortexlab/Subjects/KS051/2021-05-11/001/alf/_ibl_trials.table.pqt: 100%|██████████| 41.3k/41.3k [00:00<00:00, 803kB/s]\n",
      "/home/nuttidalab/Downloads/ONE/openalyx.internationalbrainlab.org/cortexlab/Subjects/KS051/2021-05-11/001/alf/_ibl_trials.stimOff_times.npy: 100%|██████████| 3.95k/3.95k [00:00<00:00, 53.2kB/s]\n",
      "/home/nuttidalab/Downloads/ONE/openalyx.internationalbrainlab.org/cortexlab/Subjects/KS023/2019-12-10/001/alf/_ibl_trials.goCueTrigger_times.npy: 100%|██████████| 5.26k/5.26k [00:00<00:00, 68.2kB/s]\n",
      "/home/nuttidalab/Downloads/ONE/openalyx.internationalbrainlab.org/cortexlab/Subjects/KS023/2019-12-10/001/alf/_ibl_trials.table.pqt: 100%|██████████| 52.6k/52.6k [00:00<00:00, 765kB/s]\n",
      "/home/nuttidalab/Downloads/ONE/openalyx.internationalbrainlab.org/cortexlab/Subjects/KS023/2019-12-10/001/alf/_ibl_trials.stimOff_times.npy: 100%|██████████| 5.26k/5.26k [00:00<00:00, 53.2kB/s]\n",
      "/home/nuttidalab/Downloads/ONE/openalyx.internationalbrainlab.org/cortexlab/Subjects/KS084/2022-02-01/001/alf/_ibl_trials.stimOff_times.npy: 100%|██████████| 4.37k/4.37k [00:00<00:00, 55.4kB/s]\n",
      "/home/nuttidalab/Downloads/ONE/openalyx.internationalbrainlab.org/cortexlab/Subjects/KS084/2022-02-01/001/alf/_ibl_trials.table.pqt: 100%|██████████| 45.3k/45.3k [00:00<00:00, 737kB/s]\n",
      "/home/nuttidalab/Downloads/ONE/openalyx.internationalbrainlab.org/cortexlab/Subjects/KS084/2022-02-01/001/alf/_ibl_trials.goCueTrigger_times.npy: 100%|██████████| 4.37k/4.37k [00:00<00:00, 79.2kB/s]\n",
      "/home/nuttidalab/Downloads/ONE/openalyx.internationalbrainlab.org/cortexlab/Subjects/KS086/2022-03-15/001/alf/_ibl_trials.goCueTrigger_times.npy: 100%|██████████| 4.33k/4.33k [00:00<00:00, 71.5kB/s]\n",
      "/home/nuttidalab/Downloads/ONE/openalyx.internationalbrainlab.org/cortexlab/Subjects/KS086/2022-03-15/001/alf/_ibl_trials.table.pqt: 100%|██████████| 44.9k/44.9k [00:00<00:00, 467kB/s]\n",
      "/home/nuttidalab/Downloads/ONE/openalyx.internationalbrainlab.org/cortexlab/Subjects/KS086/2022-03-15/001/alf/_ibl_trials.stimOff_times.npy: 100%|██████████| 4.33k/4.33k [00:00<00:00, 83.3kB/s]\n",
      "/home/nuttidalab/Downloads/ONE/openalyx.internationalbrainlab.org/cortexlab/Subjects/KS089/2022-03-19/001/alf/_ibl_trials.stimOff_times.npy: 100%|██████████| 3.34k/3.34k [00:00<00:00, 36.0kB/s]\n",
      "/home/nuttidalab/Downloads/ONE/openalyx.internationalbrainlab.org/cortexlab/Subjects/KS089/2022-03-19/001/alf/_ibl_trials.table.pqt: 100%|██████████| 36.4k/36.4k [00:00<00:00, 691kB/s]\n",
      "/home/nuttidalab/Downloads/ONE/openalyx.internationalbrainlab.org/cortexlab/Subjects/KS089/2022-03-19/001/alf/_ibl_trials.goCueTrigger_times.npy: 100%|██████████| 3.34k/3.34k [00:00<00:00, 24.8kB/s]\n",
      "/home/nuttidalab/Downloads/ONE/openalyx.internationalbrainlab.org/cortexlab/Subjects/KS084/2022-01-31/001/alf/_ibl_trials.table.pqt: 100%|██████████| 38.7k/38.7k [00:00<00:00, 759kB/s]\n",
      "/home/nuttidalab/Downloads/ONE/openalyx.internationalbrainlab.org/cortexlab/Subjects/KS084/2022-01-31/001/alf/_ibl_trials.goCueTrigger_times.npy: 100%|██████████| 3.62k/3.62k [00:00<00:00, 60.0kB/s]\n",
      "/home/nuttidalab/Downloads/ONE/openalyx.internationalbrainlab.org/cortexlab/Subjects/KS084/2022-01-31/001/alf/_ibl_trials.stimOff_times.npy: 100%|██████████| 3.62k/3.62k [00:00<00:00, 74.0kB/s]\n",
      "/home/nuttidalab/Downloads/ONE/openalyx.internationalbrainlab.org/cortexlab/Subjects/KS074/2021-11-22/001/alf/_ibl_trials.stimOff_times.npy: 100%|██████████| 4.82k/4.82k [00:00<00:00, 56.2kB/s]\n",
      "/home/nuttidalab/Downloads/ONE/openalyx.internationalbrainlab.org/cortexlab/Subjects/KS074/2021-11-22/001/alf/_ibl_trials.table.pqt: 100%|██████████| 49.0k/49.0k [00:00<00:00, 453kB/s]\n",
      "/home/nuttidalab/Downloads/ONE/openalyx.internationalbrainlab.org/cortexlab/Subjects/KS074/2021-11-22/001/alf/_ibl_trials.goCueTrigger_times.npy: 100%|██████████| 4.82k/4.82k [00:00<00:00, 112kB/s]\n",
      "/home/nuttidalab/Downloads/ONE/openalyx.internationalbrainlab.org/cortexlab/Subjects/KS096/2022-06-17/001/alf/_ibl_trials.table.pqt: 100%|██████████| 54.0k/54.0k [00:00<00:00, 733kB/s]\n",
      "/home/nuttidalab/Downloads/ONE/openalyx.internationalbrainlab.org/cortexlab/Subjects/KS096/2022-06-17/001/alf/_ibl_trials.goCueTrigger_times.npy: 100%|██████████| 5.43k/5.43k [00:00<00:00, 107kB/s]\n",
      "/home/nuttidalab/Downloads/ONE/openalyx.internationalbrainlab.org/cortexlab/Subjects/KS096/2022-06-17/001/alf/_ibl_trials.stimOff_times.npy: 100%|██████████| 5.43k/5.43k [00:00<00:00, 89.5kB/s]\n",
      "/home/nuttidalab/Downloads/ONE/openalyx.internationalbrainlab.org/churchlandlab_ucla/Subjects/MFD_09/2023-10-19/001/alf/_ibl_trials.goCueTrigger_times.npy: 100%|██████████| 4.68k/4.68k [00:00<00:00, 98.7kB/s]\n",
      "/home/nuttidalab/Downloads/ONE/openalyx.internationalbrainlab.org/churchlandlab_ucla/Subjects/MFD_09/2023-10-19/001/alf/_ibl_trials.table.pqt: 100%|██████████| 47.7k/47.7k [00:00<00:00, 502kB/s]\n",
      "/home/nuttidalab/Downloads/ONE/openalyx.internationalbrainlab.org/churchlandlab_ucla/Subjects/MFD_09/2023-10-19/001/alf/_ibl_trials.stimOff_times.npy: 100%|██████████| 4.68k/4.68k [00:00<00:00, 82.2kB/s]\n",
      "/home/nuttidalab/Downloads/ONE/openalyx.internationalbrainlab.org/churchlandlab_ucla/Subjects/UCLA048/2022-08-16/001/alf/_ibl_trials.table.pqt: 100%|██████████| 40.1k/40.1k [00:00<00:00, 791kB/s]\n",
      "/home/nuttidalab/Downloads/ONE/openalyx.internationalbrainlab.org/churchlandlab_ucla/Subjects/UCLA048/2022-08-16/001/alf/_ibl_trials.stimOff_times.npy: 100%|██████████| 3.79k/3.79k [00:00<00:00, 48.8kB/s]\n",
      "/home/nuttidalab/Downloads/ONE/openalyx.internationalbrainlab.org/churchlandlab_ucla/Subjects/UCLA048/2022-08-16/001/alf/_ibl_trials.goCueTrigger_times.npy: 100%|██████████| 3.79k/3.79k [00:00<00:00, 57.8kB/s]\n",
      "/home/nuttidalab/Downloads/ONE/openalyx.internationalbrainlab.org/churchlandlab_ucla/Subjects/MFD_06/2023-08-29/001/alf/_ibl_trials.stimOff_times.npy: 100%|██████████| 3.34k/3.34k [00:00<00:00, 41.2kB/s]\n",
      "/home/nuttidalab/Downloads/ONE/openalyx.internationalbrainlab.org/churchlandlab_ucla/Subjects/MFD_06/2023-08-29/001/alf/_ibl_trials.goCueTrigger_times.npy: 100%|██████████| 3.34k/3.34k [00:00<00:00, 48.4kB/s]\n",
      "/home/nuttidalab/Downloads/ONE/openalyx.internationalbrainlab.org/churchlandlab_ucla/Subjects/MFD_06/2023-08-29/001/alf/_ibl_trials.table.pqt: 100%|██████████| 36.4k/36.4k [00:00<00:00, 524kB/s]\n",
      "/home/nuttidalab/Downloads/ONE/openalyx.internationalbrainlab.org/churchlandlab_ucla/Subjects/MFD_07/2023-08-31/001/alf/_ibl_trials.table.pqt: 100%|██████████| 64.7k/64.7k [00:00<00:00, 671kB/s]\n",
      "/home/nuttidalab/Downloads/ONE/openalyx.internationalbrainlab.org/churchlandlab_ucla/Subjects/MFD_07/2023-08-31/001/alf/_ibl_trials.stimOff_times.npy: 100%|██████████| 6.73k/6.73k [00:00<00:00, 34.3kB/s]\n",
      "/home/nuttidalab/Downloads/ONE/openalyx.internationalbrainlab.org/churchlandlab_ucla/Subjects/MFD_07/2023-08-31/001/alf/_ibl_trials.goCueTrigger_times.npy: 100%|██████████| 6.73k/6.73k [00:00<00:00, 100kB/s]\n",
      "/home/nuttidalab/Downloads/ONE/openalyx.internationalbrainlab.org/churchlandlab_ucla/Subjects/MFD_08/2023-09-07/001/alf/_ibl_trials.table.pqt: 100%|██████████| 59.0k/59.0k [00:00<00:00, 943kB/s]\n",
      "/home/nuttidalab/Downloads/ONE/openalyx.internationalbrainlab.org/churchlandlab_ucla/Subjects/MFD_08/2023-09-07/001/alf/_ibl_trials.stimOff_times.npy: 100%|██████████| 6.05k/6.05k [00:00<00:00, 62.1kB/s]\n",
      "/home/nuttidalab/Downloads/ONE/openalyx.internationalbrainlab.org/churchlandlab_ucla/Subjects/MFD_08/2023-09-07/001/alf/_ibl_trials.goCueTrigger_times.npy: 100%|██████████| 6.05k/6.05k [00:00<00:00, 104kB/s]\n",
      "/home/nuttidalab/Downloads/ONE/openalyx.internationalbrainlab.org/churchlandlab_ucla/Subjects/MFD_05/2023-08-16/001/alf/_ibl_trials.goCueTrigger_times.npy: 100%|██████████| 5.09k/5.09k [00:00<00:00, 77.6kB/s]\n",
      "/home/nuttidalab/Downloads/ONE/openalyx.internationalbrainlab.org/churchlandlab_ucla/Subjects/MFD_05/2023-08-16/001/alf/_ibl_trials.table.pqt: 100%|██████████| 51.2k/51.2k [00:00<00:00, 699kB/s]\n",
      "/home/nuttidalab/Downloads/ONE/openalyx.internationalbrainlab.org/churchlandlab_ucla/Subjects/MFD_05/2023-08-16/001/alf/_ibl_trials.stimOff_times.npy: 100%|██████████| 5.09k/5.09k [00:00<00:00, 64.9kB/s]\n",
      "/home/nuttidalab/Downloads/ONE/openalyx.internationalbrainlab.org/churchlandlab_ucla/Subjects/UCLA011/2021-07-20/001/alf/_ibl_trials.table.pqt: 100%|██████████| 60.7k/60.7k [00:00<00:00, 1.06MB/s]\n",
      "/home/nuttidalab/Downloads/ONE/openalyx.internationalbrainlab.org/churchlandlab_ucla/Subjects/UCLA011/2021-07-20/001/alf/_ibl_trials.goCueTrigger_times.npy: 100%|██████████| 6.24k/6.24k [00:00<00:00, 82.6kB/s]\n",
      "/home/nuttidalab/Downloads/ONE/openalyx.internationalbrainlab.org/churchlandlab_ucla/Subjects/UCLA011/2021-07-20/001/alf/_ibl_trials.stimOff_times.npy: 100%|██████████| 6.24k/6.24k [00:00<00:00, 92.0kB/s]\n",
      "/home/nuttidalab/Downloads/ONE/openalyx.internationalbrainlab.org/steinmetzlab/Subjects/NR_0024/2023-01-19/001/alf/_ibl_trials.goCueTrigger_times.npy: 100%|██████████| 5.44k/5.44k [00:00<00:00, 26.1kB/s]\n",
      "/home/nuttidalab/Downloads/ONE/openalyx.internationalbrainlab.org/steinmetzlab/Subjects/NR_0024/2023-01-19/001/alf/_ibl_trials.stimOff_times.npy: 100%|██████████| 5.44k/5.44k [00:00<00:00, 60.0kB/s]\n",
      "/home/nuttidalab/Downloads/ONE/openalyx.internationalbrainlab.org/steinmetzlab/Subjects/NR_0024/2023-01-19/001/alf/_ibl_trials.table.pqt: 100%|██████████| 54.1k/54.1k [00:00<00:00, 766kB/s]\n",
      "/home/nuttidalab/Downloads/ONE/openalyx.internationalbrainlab.org/steinmetzlab/Subjects/NR_0021/2022-06-23/003/alf/_ibl_trials.stimOff_times.npy: 100%|██████████| 5.29k/5.29k [00:00<00:00, 100kB/s]\n",
      "/home/nuttidalab/Downloads/ONE/openalyx.internationalbrainlab.org/steinmetzlab/Subjects/NR_0021/2022-06-23/003/alf/_ibl_trials.table.pqt: 100%|██████████| 52.9k/52.9k [00:00<00:00, 800kB/s]\n",
      "/home/nuttidalab/Downloads/ONE/openalyx.internationalbrainlab.org/steinmetzlab/Subjects/NR_0021/2022-06-23/003/alf/_ibl_trials.goCueTrigger_times.npy: 100%|██████████| 5.29k/5.29k [00:00<00:00, 68.0kB/s]\n",
      "/home/nuttidalab/Downloads/ONE/openalyx.internationalbrainlab.org/steinmetzlab/Subjects/NR_0019/2022-04-29/001/alf/_ibl_trials.stimOff_times.npy: 100%|██████████| 4.78k/4.78k [00:00<00:00, 40.7kB/s]\n",
      "/home/nuttidalab/Downloads/ONE/openalyx.internationalbrainlab.org/steinmetzlab/Subjects/NR_0019/2022-04-29/001/alf/_ibl_trials.goCueTrigger_times.npy: 100%|██████████| 4.78k/4.78k [00:00<00:00, 100kB/s]\n",
      "/home/nuttidalab/Downloads/ONE/openalyx.internationalbrainlab.org/steinmetzlab/Subjects/NR_0019/2022-04-29/001/alf/_ibl_trials.table.pqt: 100%|██████████| 48.7k/48.7k [00:00<00:00, 497kB/s]\n",
      "/home/nuttidalab/Downloads/ONE/openalyx.internationalbrainlab.org/steinmetzlab/Subjects/NR_0020/2022-05-08/001/alf/_ibl_trials.table.pqt: 100%|██████████| 44.9k/44.9k [00:00<00:00, 596kB/s]\n",
      "/home/nuttidalab/Downloads/ONE/openalyx.internationalbrainlab.org/steinmetzlab/Subjects/NR_0020/2022-05-08/001/alf/_ibl_trials.goCueTrigger_times.npy: 100%|██████████| 4.33k/4.33k [00:00<00:00, 69.6kB/s]\n",
      "/home/nuttidalab/Downloads/ONE/openalyx.internationalbrainlab.org/steinmetzlab/Subjects/NR_0020/2022-05-08/001/alf/_ibl_trials.stimOff_times.npy: 100%|██████████| 4.33k/4.33k [00:00<00:00, 66.1kB/s]\n"
     ]
    }
   ],
   "source": [
    "for eid in ephys_eid:\n",
    "    one.load_object(eid, 'trials', download_only=True)"
   ]
  },
  {
   "cell_type": "code",
   "execution_count": 8,
   "metadata": {},
   "outputs": [
    {
     "name": "stderr",
     "output_type": "stream",
     "text": [
      "/home/nuttidalab/Downloads/ONE/openalyx.internationalbrainlab.org/danlab/Subjects/DY_009/2020-02-27/001/alf/_ibl_trials.stimOff_times.npy: 100%|██████████| 3.34k/3.34k [00:00<00:00, 44.3kB/s]\n",
      "/home/nuttidalab/Downloads/ONE/openalyx.internationalbrainlab.org/danlab/Subjects/DY_009/2020-02-27/001/alf/_ibl_trials.table.pqt: 100%|██████████| 36.5k/36.5k [00:00<00:00, 525kB/s]\n",
      "/home/nuttidalab/Downloads/ONE/openalyx.internationalbrainlab.org/danlab/Subjects/DY_009/2020-02-27/001/alf/_ibl_trials.goCueTrigger_times.npy: 100%|██████████| 3.34k/3.34k [00:00<00:00, 51.7kB/s]\n"
     ]
    }
   ],
   "source": [
    "trials = one.load_object(\"db4df448-e449-4a6f-a0e7-288711e7a75a\", 'trials')"
   ]
  },
  {
   "cell_type": "code",
   "execution_count": 10,
   "metadata": {},
   "outputs": [
    {
     "data": {
      "text/plain": [
       "dict_keys(['stimOff_times', 'goCueTrigger_times', 'firstMovement_times', 'feedbackType', 'response_times', 'stimOn_times', 'rewardVolume', 'feedback_times', 'probabilityLeft', 'contrastLeft', 'goCue_times', 'choice', 'contrastRight', 'intervals'])"
      ]
     },
     "execution_count": 10,
     "metadata": {},
     "output_type": "execute_result"
    }
   ],
   "source": [
    "trials.keys()"
   ]
  },
  {
   "cell_type": "code",
   "execution_count": 28,
   "metadata": {},
   "outputs": [
    {
     "data": {
      "text/plain": [
       "array([[   9.45385452,   37.07794431],\n",
       "       [  37.55784384,   42.63906481],\n",
       "       [  43.02006423,   45.89467539],\n",
       "       [  46.25017452,   48.74458944],\n",
       "       [  49.10218929,   51.45561553],\n",
       "       [  51.8218173 ,   54.33893044],\n",
       "       [  54.69443001,   57.99453289],\n",
       "       [  58.35093099,   60.91093562],\n",
       "       [  61.32013404,   64.83884695],\n",
       "       [  65.19944607,   67.70546007],\n",
       "       [  68.07305868,   71.72758938],\n",
       "       [  72.09049023,   76.1445139 ],\n",
       "       [  76.51041486,   79.12741811],\n",
       "       [  79.49441643,   81.69412781],\n",
       "       [  82.05172734,   84.42152366],\n",
       "       [  84.7955196 ,   87.30535653],\n",
       "       [  87.72136032,   91.72725891],\n",
       "       [  92.0914566 ,   94.47727982],\n",
       "       [  94.8461811 ,   98.06008942],\n",
       "       [  98.44178817,  101.95460094],\n",
       "       [ 102.32240007,  104.70482326],\n",
       "       [ 105.07712457,  107.38812655],\n",
       "       [ 107.74372455,  110.44274574],\n",
       "       [ 110.85554667,  113.49374784],\n",
       "       [ 113.86474572,  117.52107433],\n",
       "       [ 117.90377511,  120.41005838],\n",
       "       [ 120.78555357,  123.42618302],\n",
       "       [ 123.80468496,  126.18797973],\n",
       "       [ 126.55447662,  129.5268066 ],\n",
       "       [ 129.90540816,  132.58722909],\n",
       "       [ 133.01863014,  135.62073499],\n",
       "       [ 135.98583339,  138.64353264],\n",
       "       [ 139.01693025,  141.75385104],\n",
       "       [ 142.13585166,  147.15427641],\n",
       "       [ 147.55627623,  150.15908082],\n",
       "       [ 150.52647918,  153.19240586],\n",
       "       [ 153.57710742,  156.34261867],\n",
       "       [ 156.80221821,  162.18694077],\n",
       "       [ 162.58104027,  165.39215531],\n",
       "       [ 165.76625505,  169.07065568],\n",
       "       [ 169.44785352,  171.95326553],\n",
       "       [ 172.33236504,  174.84267572],\n",
       "       [ 175.23187506,  177.52587691],\n",
       "       [ 177.89997489,  180.7091838 ],\n",
       "       [ 181.15298289,  183.73691716],\n",
       "       [ 184.11601989,  186.9369334 ],\n",
       "       [ 187.31833296,  189.94223507],\n",
       "       [ 190.31673309,  192.9756321 ],\n",
       "       [ 193.35052968,  196.53657034],\n",
       "       [ 196.91737296,  199.61946755],\n",
       "       [ 200.0016645 ,  204.49219882],\n",
       "       [ 204.97640031,  207.73648963],\n",
       "       [ 208.12058586,  210.98632465],\n",
       "       [ 211.36982757,  213.82541352],\n",
       "       [ 214.22270892,  217.87503664],\n",
       "       [ 218.27053743,  220.91983657],\n",
       "       [ 221.30293416,  223.92496358],\n",
       "       [ 224.32036572,  227.0357878 ],\n",
       "       [ 227.42388867,  230.00838609],\n",
       "       [ 230.48978205,  233.11888276],\n",
       "       [ 233.50428057,  237.08611486],\n",
       "       [ 237.48911538,  240.70842193],\n",
       "       [ 241.10432049,  243.4195465 ],\n",
       "       [ 243.82214868,  246.08585214],\n",
       "       [ 246.47145039,  249.15814497],\n",
       "       [ 249.55634187,  253.3526779 ],\n",
       "       [ 253.83868026,  256.48547784],\n",
       "       [ 256.88927517,  259.5909975 ],\n",
       "       [ 259.98909849,  262.47431109],\n",
       "       [ 262.86611076,  265.24153203],\n",
       "       [ 265.64073327,  268.4739441 ],\n",
       "       [ 268.87304334,  271.39135241],\n",
       "       [ 271.79085153,  274.10724922],\n",
       "       [ 274.50774648,  278.50196333],\n",
       "       [ 279.00666321,  281.55686905],\n",
       "       [ 281.96186766,  284.91879677],\n",
       "       [ 285.32029845,  287.66829524],\n",
       "       [ 288.0591912 ,  290.74051573],\n",
       "       [ 291.13381704,  295.49023866],\n",
       "       [ 295.91783859,  299.19073844],\n",
       "       [ 299.60833617,  302.14064391],\n",
       "       [ 302.54154282,  305.25156237],\n",
       "       [ 305.67186309,  308.32359041],\n",
       "       [ 308.72489109,  311.40098374],\n",
       "       [ 311.83318023,  314.53490169],\n",
       "       [ 314.94230262,  317.67352102],\n",
       "       [ 318.0865215 ,  324.68474992],\n",
       "       [ 325.13684973,  327.70105332],\n",
       "       [ 328.11805158,  330.62366056],\n",
       "       [ 331.04785857,  333.72368058],\n",
       "       [ 334.14898176,  337.78959841],\n",
       "       [ 338.31429852,  341.43971048],\n",
       "       [ 341.86740984,  344.40071672],\n",
       "       [ 344.81041551,  347.20093381],\n",
       "       [ 347.61863466,  349.98972535],\n",
       "       [ 350.4186213 ,  353.15103906],\n",
       "       [ 353.56983948,  355.98405562],\n",
       "       [ 356.40355608,  358.73417975],\n",
       "       [ 359.1480816 ,  361.65039183],\n",
       "       [ 362.06359002,  364.60049548],\n",
       "       [ 365.02289406,  367.78940777],\n",
       "       [ 368.2205076 ,  370.82270862],\n",
       "       [ 371.23160646,  373.8007387 ],\n",
       "       [ 374.21364156,  382.10054453],\n",
       "       [ 382.53594258,  385.05027709],\n",
       "       [ 385.48738074,  388.12257768],\n",
       "       [ 388.54577487,  391.31688742],\n",
       "       [ 391.75658709,  394.29999307],\n",
       "       [ 394.72159056,  398.43300853],\n",
       "       [ 398.87570844,  401.48872402],\n",
       "       [ 402.0441249 ,  404.62225413],\n",
       "       [ 405.05875674,  407.36675345],\n",
       "       [ 407.78765049,  410.21676334],\n",
       "       [ 410.65916331,  413.04988028],\n",
       "       [ 413.48208099,  416.10007939],\n",
       "       [ 416.52357681,  418.93879078],\n",
       "       [ 419.38169097,  421.89999754],\n",
       "       [ 422.32789632,  424.66641823],\n",
       "       [ 425.09231985,  427.50523525],\n",
       "       [ 427.93423563,  430.49943618],\n",
       "       [ 430.94093493,  435.23874975],\n",
       "       [ 435.79434954,  438.31615587],\n",
       "       [ 438.7434546 ,  441.28828631],\n",
       "       [ 441.72808944,  445.6154927 ],\n",
       "       [ 446.04699084,  448.60499461],\n",
       "       [ 449.03769174,  451.67111556],\n",
       "       [ 452.11571724,  454.59882582],\n",
       "       [ 455.03802498,  459.08244196],\n",
       "       [ 459.53764164,  463.64895148],\n",
       "       [ 464.11655037,  466.78787235],\n",
       "       [ 467.21767356,  469.66548573],\n",
       "       [ 470.09768553,  472.64870491],\n",
       "       [ 473.21810679,  475.84880283],\n",
       "       [ 476.28729984,  478.8656292 ],\n",
       "       [ 479.30063181,  481.88723051],\n",
       "       [ 482.33912793,  484.7819407 ],\n",
       "       [ 485.22353946,  487.92055746],\n",
       "       [ 488.36985813,  491.30485603],\n",
       "       [ 491.75005341,  494.28188624],\n",
       "       [ 494.72128959,  497.19829836],\n",
       "       [ 497.64119757,  500.61529289],\n",
       "       [ 501.06248874,  503.96471716],\n",
       "       [ 504.42291933,  507.29842142],\n",
       "       [ 507.75491943,  510.33773312],\n",
       "       [ 510.94363386,  513.21985937],\n",
       "       [ 513.66256194,  516.42057521],\n",
       "       [ 516.86477502,  519.65378496],\n",
       "       [ 520.10548425,  522.46490081],\n",
       "       [ 522.93080169,  525.77010618],\n",
       "       [ 526.23480459,  529.00381534],\n",
       "       [ 529.4657148 ,  532.10330909],\n",
       "       [ 532.55570577,  540.93655256],\n",
       "       [ 541.41475311,  544.71447644],\n",
       "       [ 545.17157739,  547.7697739 ],\n",
       "       [ 548.23607091,  551.64788283],\n",
       "       [ 552.12268221,  556.01939708],\n",
       "       [ 556.63969713,  560.08103805],\n",
       "       [ 560.53244115,  567.61345377],\n",
       "       [ 568.08505248,  570.95275452],\n",
       "       [ 571.41755253,  574.05307533],\n",
       "       [ 574.51767582,  577.46919928],\n",
       "       [ 577.93550067,  580.83589984],\n",
       "       [ 581.30139738,  588.28604688],\n",
       "       [ 588.79124832,  592.21935945],\n",
       "       [ 592.6870587 ,  600.70257655],\n",
       "       [ 601.1848755 ,  608.26341967],\n",
       "       [ 608.73432048,  611.20212795],\n",
       "       [ 611.66902698,  614.21362761],\n",
       "       [ 614.68502535,  617.18014316],\n",
       "       [ 617.81944521,  620.50176294],\n",
       "       [ 620.96786367,  623.48546691],\n",
       "       [ 623.95286514,  626.43007123],\n",
       "       [ 626.90387001,  629.38000066],\n",
       "       [ 629.89120458,  633.58502179],\n",
       "       [ 634.05272172,  636.51243047],\n",
       "       [ 636.97232973,  639.5960243 ],\n",
       "       [ 640.07161977,  644.75153837],\n",
       "       [ 645.22173804,  648.55155761],\n",
       "       [ 649.02085809,  652.03487153],\n",
       "       [ 652.5530715 ,  657.73460379],\n",
       "       [ 658.22120463,  664.78413258],\n",
       "       [ 665.27493252,  667.79603536],\n",
       "       [ 668.26463352,  670.6346491 ],\n",
       "       [ 671.10174978,  675.82877611],\n",
       "       [ 676.49057751,  679.0346772 ],\n",
       "       [ 679.51777476,  681.96788293],\n",
       "       [ 682.44378213,  686.41760442],\n",
       "       [ 686.89400373,  689.39513513],\n",
       "       [ 689.87643879,  692.35064494],\n",
       "       [ 692.83844256,  696.6507494 ],\n",
       "       [ 697.126947  ,  699.46746318],\n",
       "       [ 699.95536413,  703.41217057],\n",
       "       [ 703.9042692 ,  706.47849482],\n",
       "       [ 706.95719721,  709.35111029],\n",
       "       [ 709.82421048,  712.37830977],\n",
       "       [ 712.85610726,  715.38353721],\n",
       "       [ 715.85724045,  718.14443314],\n",
       "       [ 718.63672914,  721.14475968],\n",
       "       [ 721.62926319,  724.00047347],\n",
       "       [ 724.52777331,  732.32769173],\n",
       "       [ 733.02559011,  735.32800919],\n",
       "       [ 735.81821082,  739.66141318],\n",
       "       [ 740.14711122,  742.71643702],\n",
       "       [ 743.19753948,  746.81106108],\n",
       "       [ 747.30756177,  750.41677028],\n",
       "       [ 750.89866929,  753.44436784],\n",
       "       [ 753.93956517,  756.36637545],\n",
       "       [ 756.8519739 ,  759.17779158],\n",
       "       [ 759.66219285,  762.21611944],\n",
       "       [ 762.70252212,  765.43313369],\n",
       "       [ 765.92263341,  768.5607255 ],\n",
       "       [ 769.05172047,  772.49435785],\n",
       "       [ 772.98086085,  775.31085053],\n",
       "       [ 775.79614596,  778.29437675],\n",
       "       [ 778.7847804 ,  781.47699341],\n",
       "       [ 781.98689349,  784.71058792],\n",
       "       [ 785.41518396,  788.86062024],\n",
       "       [ 789.35602317,  791.99921265],\n",
       "       [ 792.50480826,  795.18242316],\n",
       "       [ 795.68462358,  798.19915145],\n",
       "       [ 798.70675467,  801.4932603 ],\n",
       "       [ 801.99695895,  804.67687383],\n",
       "       [ 805.1884731 ,  807.64907856],\n",
       "       [ 808.14657726,  810.84888956],\n",
       "       [ 811.3571895 ,  814.08190098],\n",
       "       [ 814.5782007 ,  822.76532836],\n",
       "       [ 823.30382805,  827.94287731],\n",
       "       [ 828.45617943,  832.6598771 ],\n",
       "       [ 833.17097457,  835.86488754],\n",
       "       [ 836.37358761,  838.94321052],\n",
       "       [ 839.45581269,  842.00971096],\n",
       "       [ 842.52430581,  848.20965041],\n",
       "       [ 848.72565228,  852.49295847],\n",
       "       [ 853.01095704,  859.79759166],\n",
       "       [ 860.3252922 ,  863.28101105],\n",
       "       [ 863.79391197,  866.45922634],\n",
       "       [ 866.97912675,  869.37583593],\n",
       "       [ 869.89163547,  874.99764035],\n",
       "       [ 875.52593865,  886.15898656],\n",
       "       [ 886.70868693,  889.54771559],\n",
       "       [ 890.0603184 ,  893.64730999],\n",
       "       [ 894.17950644,  931.07495054],\n",
       "       [ 931.72955106,  951.18044701],\n",
       "       [ 951.76004781,  966.5291129 ],\n",
       "       [ 967.10311335,  982.69616341],\n",
       "       [ 983.26986318,  986.27397616],\n",
       "       [ 986.80687611,  996.12402264],\n",
       "       [ 996.66792324,  999.32403722],\n",
       "       [ 999.85713762, 1006.89054865],\n",
       "       [1007.42584734, 1010.14546394],\n",
       "       [1010.90536602, 1018.89001208],\n",
       "       [1019.43391308, 1021.8287215 ],\n",
       "       [1022.35532091, 1028.1788517 ],\n",
       "       [1028.70735231, 1031.83985413],\n",
       "       [1032.3757521 , 1036.51128374],\n",
       "       [1037.04098553, 1042.39519626],\n",
       "       [1042.94419515, 1045.58970944],\n",
       "       [1046.12920995, 1048.94553848],\n",
       "       [1049.47994151, 1052.72313457],\n",
       "       [1053.25023111, 1056.04526041],\n",
       "       [1056.59036373, 1058.92797513],\n",
       "       [1059.47417532, 1061.98937423],\n",
       "       [1062.52347036, 1065.22298123],\n",
       "       [1065.75048096, 1068.55570933],\n",
       "       [1069.10181246, 1071.42252638],\n",
       "       [1071.95502711, 1074.32263749],\n",
       "       [1074.85223736, 1077.42802923],\n",
       "       [1077.97472508, 1080.30543768],\n",
       "       [1080.84393813, 1083.24444574],\n",
       "       [1083.77514498, 1086.20527681],\n",
       "       [1086.74378142, 1089.33927831],\n",
       "       [1090.14367473, 1092.82198593],\n",
       "       [1093.3659858 , 1095.70549681],\n",
       "       [1096.25449692, 1098.56061194],\n",
       "       [1099.09391295, 1101.57174129],\n",
       "       [1102.10674497, 1104.49425183],\n",
       "       [1105.04665095, 1107.48865378],\n",
       "       [1108.03625196, 1110.87717773],\n",
       "       [1111.41948027, 1113.70506824],\n",
       "       [1114.26026283, 1117.75528808],\n",
       "       [1118.32288986, 1120.86031266],\n",
       "       [1121.40341511, 1123.87191548],\n",
       "       [1124.42311311, 1126.90533956],\n",
       "       [1127.457243  , 1129.86014896],\n",
       "       [1130.40834786, 1133.02126337],\n",
       "       [1133.57756424, 1136.98836767],\n",
       "       [1137.56046591, 1140.22727461],\n",
       "       [1140.81177408, 1143.33799658],\n",
       "       [1143.8945991 , 1147.52641268],\n",
       "       [1148.09361249, 1150.38812607],\n",
       "       [1150.9492269 , 1154.28803774],\n",
       "       [1154.84573721, 1159.54334921],\n",
       "       [1160.39374902, 1162.82127931],\n",
       "       [1163.37888381, 1165.95987369],\n",
       "       [1166.52636903, 1169.20947771],\n",
       "       [1169.77837713, 1172.05389258],\n",
       "       [1172.61069387, 1175.19341042],\n",
       "       [1175.76601164, 1178.17631499],\n",
       "       [1178.74901331, 1181.29293313],\n",
       "       [1181.86383513, 1184.40895471],\n",
       "       [1184.98155666, 1187.52107636],\n",
       "       [1188.09747837, 1194.64290037],\n",
       "       [1195.22329905, 1199.02592454],\n",
       "       [1199.6180262 , 1263.38856885],\n",
       "       [1264.17536982, 1269.34119492],\n",
       "       [1269.9179955 , 1309.71874139],\n",
       "       [1310.44864203, 1313.14075027],\n",
       "       [1313.70614958, 1376.68660413],\n",
       "       [1377.47600529, 1379.96792931],\n",
       "       [1380.53843235, 1383.28453451],\n",
       "       [1383.86953254, 1387.33955825],\n",
       "       [1387.92536025, 1415.50056692],\n",
       "       [1416.18326751, 1477.37169956],\n",
       "       [1478.1795006 , 1501.33231815],\n",
       "       [1501.98881943, 1521.98218709],\n",
       "       [1522.64188725, 1578.56411416],\n",
       "       [1579.35531534, 1627.81359127],\n",
       "       [1628.58349203, 1639.58036139],\n",
       "       [1640.21386221, 1653.10220893],\n",
       "       [1653.74310915, 1673.1958959 ],\n",
       "       [1673.86449681, 1686.53423394],\n",
       "       [1687.16113368, 1704.44610673],\n",
       "       [1705.08910737, 1707.90123053],\n",
       "       [1708.49883303, 1713.07854593],\n",
       "       [1713.70764543, 1727.90069727],\n",
       "       [1728.52949643, 1731.512304  ],\n",
       "       [1732.12860315, 1734.75031511],\n",
       "       [1735.33961535, 1737.79494058],\n",
       "       [1738.39594302, 1740.98405608],\n",
       "       [1741.59235668, 1745.16187277],\n",
       "       [1745.76077313, 1748.29979198],\n",
       "       [1749.19889595, 1751.79530915],\n",
       "       [1752.39410973, 1755.77841216],\n",
       "       [1756.38871023, 1758.82833549],\n",
       "       [1759.43163924, 1762.89493611],\n",
       "       [1763.49133323, 1767.21166463],\n",
       "       [1767.8158674 , 1775.24959074],\n",
       "       [1775.91589065, 1788.10023803],\n",
       "       [1788.76923852, 1802.46050361],\n",
       "       [1803.10710459, 1807.61092565],\n",
       "       [1808.22342624, 1821.49386824],\n",
       "       [1822.13606817, 1829.89339776],\n",
       "       [1830.51469689, 1834.91582804],\n",
       "       [1835.52692895, 1839.94385657],\n",
       "       [1840.56745818, 1843.64925705],\n",
       "       [1844.27135442, 1848.93199089],\n",
       "       [1849.54729344, 1852.99891754],\n",
       "       [1853.61951951, 1856.59822458],\n",
       "       [1857.24842325, 1859.85993419],\n",
       "       [1860.47113428, 1864.41534427],\n",
       "       [1865.04474354, 1875.01528273],\n",
       "       [1875.65848206, 1878.55939477],\n",
       "       [1879.19429511, 1882.09800838],\n",
       "       [1882.72360881, 1894.26485447],\n",
       "       [1894.92745497, 1897.51469166],\n",
       "       [1898.16039831, 1918.91418526],\n",
       "       [1919.61348612, 1938.98064683],\n",
       "       [1939.67014692, 1958.04663862],\n",
       "       [1958.73753999, 1969.93028746],\n",
       "       [1970.59848711, 1980.60782088],\n",
       "       [1981.26941991, 1999.35787672],\n",
       "       [2000.03237676, 2014.92905159],\n",
       "       [2015.60295288, 2019.34087943],\n",
       "       [2019.98158164, 2024.77360294],\n",
       "       [2025.42830358, 2028.07351115],\n",
       "       [2028.69261045, 2041.25715378],\n",
       "       [2041.92275397, 2045.54038976],\n",
       "       [2046.19039383, 2053.59012163],\n",
       "       [2054.2422219 , 2060.07883954],\n",
       "       [2060.73433929, 2063.30635253],\n",
       "       [2063.92785324, 2072.70617734],\n",
       "       [2073.35627697, 2082.79533292],\n",
       "       [2083.44533463, 2098.09459983],\n",
       "       [2098.78220079, 2107.30601707],\n",
       "       [2107.96091616, 2111.41143873],\n",
       "       [2112.05004054, 2128.05540356],\n",
       "       [2128.74520419, 2131.5109277 ],\n",
       "       [2132.14703064, 2159.01013599],\n",
       "       [2159.74903683, 2163.90505449],\n",
       "       [2164.56705498, 2173.00510668],\n",
       "       [2173.69520874, 2177.72150869],\n",
       "       [2178.38530635, 2198.27630552],\n",
       "       [2199.35860881, 2205.50432865],\n",
       "       [2206.16052855, 2209.39294099],\n",
       "       [2210.0466399 , 2217.99337908],\n",
       "       [2218.64358012, 2226.58761871],\n",
       "       [2227.24651974, 2234.7759344 ],\n",
       "       [2235.44123352, 2237.93705196],\n",
       "       [2238.56825412, 2242.30898034],\n",
       "       [2242.95078249, 2246.2705865 ],\n",
       "       [2246.92638489, 2250.80939889],\n",
       "       [2251.45279887, 2254.27561586],\n",
       "       [2254.93421736, 2266.10896383],\n",
       "       [2266.79436456, 2278.07523091],\n",
       "       [2278.77633291, 2284.43663626],\n",
       "       [2285.09403441, 2291.86988627],\n",
       "       [2292.54498924, 2307.60304605],\n",
       "       [2308.3031466 , 2317.90788303],\n",
       "       [2318.59968351, 2359.69065887],\n",
       "       [2360.49466026, 2364.43536618],\n",
       "       [2365.11496485, 2391.4181893 ],\n",
       "       [2392.18539087, 2416.66800685]])"
      ]
     },
     "execution_count": 28,
     "metadata": {},
     "output_type": "execute_result"
    }
   ],
   "source": [
    "trials[\"intervals\"]"
   ]
  },
  {
   "cell_type": "code",
   "execution_count": 26,
   "metadata": {},
   "outputs": [
    {
     "data": {
      "text/plain": [
       "array([1.   ,   nan, 0.25 , 0.125, 0.25 , 1.   ,   nan,   nan,   nan,\n",
       "       0.125])"
      ]
     },
     "execution_count": 26,
     "metadata": {},
     "output_type": "execute_result"
    }
   ],
   "source": [
    "trials[\"contrastRight\"][:10]"
   ]
  },
  {
   "cell_type": "code",
   "execution_count": 25,
   "metadata": {},
   "outputs": [
    {
     "data": {
      "text/plain": [
       "array([   nan, 0.25  ,    nan,    nan,    nan,    nan, 0.0625, 1.    ,\n",
       "       0.125 ,    nan])"
      ]
     },
     "execution_count": 25,
     "metadata": {},
     "output_type": "execute_result"
    }
   ],
   "source": [
    "trials[\"contrastLeft\"][:10]"
   ]
  },
  {
   "cell_type": "code",
   "execution_count": 20,
   "metadata": {},
   "outputs": [
    {
     "data": {
      "text/plain": [
       "array([22.21161195, 40.80565236, 43.51141509, 46.73902563, 49.67189898,\n",
       "       52.46138667, 55.244475  , 59.12172057, 61.83901548, 65.77748826])"
      ]
     },
     "execution_count": 20,
     "metadata": {},
     "output_type": "execute_result"
    }
   ],
   "source": [
    "trials[\"stimOn_times\"][:10]"
   ]
  },
  {
   "cell_type": "code",
   "execution_count": 21,
   "metadata": {},
   "outputs": [
    {
     "data": {
      "text/plain": [
       "array([35.51233734, 41.07245696, 44.32386838, 47.16967928, 49.89499746,\n",
       "       52.78212155, 55.43423021, 59.338432  , 62.27943701, 66.14405022])"
      ]
     },
     "execution_count": 21,
     "metadata": {},
     "output_type": "execute_result"
    }
   ],
   "source": [
    "trials[\"response_times\"][:10]"
   ]
  },
  {
   "cell_type": "code",
   "execution_count": 22,
   "metadata": {},
   "outputs": [
    {
     "data": {
      "text/plain": [
       "array([ 1.,  1.,  1.,  1.,  1.,  1., -1.,  1., -1.,  1.])"
      ]
     },
     "execution_count": 22,
     "metadata": {},
     "output_type": "execute_result"
    }
   ],
   "source": [
    "trials[\"feedbackType\"][:10]"
   ]
  },
  {
   "cell_type": "code",
   "execution_count": 23,
   "metadata": {},
   "outputs": [
    {
     "data": {
      "text/plain": [
       "array([-1.,  1., -1., -1., -1., -1., -1.,  1., -1., -1.])"
      ]
     },
     "execution_count": 23,
     "metadata": {},
     "output_type": "execute_result"
    }
   ],
   "source": [
    "trials[\"choice\"][:10]"
   ]
  },
  {
   "cell_type": "code",
   "execution_count": 24,
   "metadata": {},
   "outputs": [
    {
     "data": {
      "text/plain": [
       "array([34.74261491, 40.90861491, 43.69561491, 46.94761491, 49.57561491,\n",
       "       52.48661491, 55.04561491, 59.05061491, 62.05461491, 65.91761491])"
      ]
     },
     "execution_count": 24,
     "metadata": {},
     "output_type": "execute_result"
    }
   ],
   "source": [
    "trials['firstMovement_times'][:10]"
   ]
  },
  {
   "cell_type": "code",
   "execution_count": 7,
   "metadata": {},
   "outputs": [
    {
     "data": {
      "text/plain": [
       "['alf/#2023-04-20#/_ibl_leftCamera.times.npy',\n",
       " 'alf/#2023-04-20#/_ibl_rightCamera.times.npy',\n",
       " 'alf/#2023-04-20#/licks.times.npy',\n",
       " 'alf/#2024-06-22#/_ibl_leftCamera.lightningPose.pqt',\n",
       " 'alf/_ibl_leftCamera.dlc.pqt',\n",
       " 'alf/_ibl_leftCamera.features.pqt',\n",
       " 'alf/_ibl_leftCamera.lightningPose.pqt',\n",
       " 'alf/_ibl_leftCamera.times.npy',\n",
       " 'alf/_ibl_passiveGabor.table.csv',\n",
       " 'alf/_ibl_passivePeriods.intervalsTable.csv',\n",
       " 'alf/_ibl_passiveRFM.times.npy',\n",
       " 'alf/_ibl_passiveStims.table.csv',\n",
       " 'alf/_ibl_rightCamera.dlc.pqt',\n",
       " 'alf/_ibl_rightCamera.features.pqt',\n",
       " 'alf/_ibl_rightCamera.times.npy',\n",
       " 'alf/_ibl_trials.goCueTrigger_times.npy',\n",
       " 'alf/_ibl_trials.stimOff_times.npy',\n",
       " 'alf/_ibl_trials.table.pqt',\n",
       " 'alf/_ibl_wheel.position.npy',\n",
       " 'alf/_ibl_wheel.timestamps.npy',\n",
       " 'alf/_ibl_wheelMoves.intervals.npy',\n",
       " 'alf/_ibl_wheelMoves.peakAmplitude.npy',\n",
       " 'alf/leftCamera.ROIMotionEnergy.npy',\n",
       " 'alf/leftROIMotionEnergy.position.npy',\n",
       " 'alf/licks.times.npy',\n",
       " 'alf/probe00/electrodeSites.brainLocationIds_ccf_2017.npy',\n",
       " 'alf/probe00/electrodeSites.localCoordinates.npy',\n",
       " 'alf/probe00/electrodeSites.mlapdv.npy',\n",
       " 'alf/probe00/pykilosort/#2022-10-31#/clusters.amps.npy',\n",
       " 'alf/probe00/pykilosort/#2024-03-22#/_kilosort_whitening.matrix.npy',\n",
       " 'alf/probe00/pykilosort/#2024-03-22#/channels.localCoordinates.npy',\n",
       " 'alf/probe00/pykilosort/#2024-03-22#/channels.rawInd.npy',\n",
       " 'alf/probe00/pykilosort/#2024-03-22#/clusters.amps.npy',\n",
       " 'alf/probe00/pykilosort/#2024-03-22#/clusters.channels.npy',\n",
       " 'alf/probe00/pykilosort/#2024-03-22#/clusters.depths.npy',\n",
       " 'alf/probe00/pykilosort/#2024-03-22#/clusters.metrics.pqt',\n",
       " 'alf/probe00/pykilosort/#2024-03-22#/clusters.peakToTrough.npy',\n",
       " 'alf/probe00/pykilosort/#2024-03-22#/clusters.uuids.csv',\n",
       " 'alf/probe00/pykilosort/#2024-03-22#/clusters.waveforms.npy',\n",
       " 'alf/probe00/pykilosort/#2024-03-22#/clusters.waveformsChannels.npy',\n",
       " 'alf/probe00/pykilosort/#2024-03-22#/drift.times.npy',\n",
       " 'alf/probe00/pykilosort/#2024-03-22#/drift.um.npy',\n",
       " 'alf/probe00/pykilosort/#2024-03-22#/drift_depths.um.npy',\n",
       " 'alf/probe00/pykilosort/#2024-03-22#/spikes.amps.npy',\n",
       " 'alf/probe00/pykilosort/#2024-03-22#/spikes.clusters.npy',\n",
       " 'alf/probe00/pykilosort/#2024-03-22#/spikes.depths.npy',\n",
       " 'alf/probe00/pykilosort/#2024-03-22#/spikes.samples.npy',\n",
       " 'alf/probe00/pykilosort/#2024-03-22#/spikes.templates.npy',\n",
       " 'alf/probe00/pykilosort/#2024-03-22#/spikes.times.npy',\n",
       " 'alf/probe00/pykilosort/#2024-03-22#/templates.amps.npy',\n",
       " 'alf/probe00/pykilosort/#2024-03-22#/templates.waveforms.npy',\n",
       " 'alf/probe00/pykilosort/#2024-03-22#/templates.waveformsChannels.npy',\n",
       " 'alf/probe00/pykilosort/#2024-05-06#/_ibl_log.info_pykilosort.log',\n",
       " 'alf/probe00/pykilosort/#2024-05-06#/_kilosort_whitening.matrix.npy',\n",
       " 'alf/probe00/pykilosort/#2024-05-06#/_phy_spikes_subset.channels.npy',\n",
       " 'alf/probe00/pykilosort/#2024-05-06#/_phy_spikes_subset.spikes.npy',\n",
       " 'alf/probe00/pykilosort/#2024-05-06#/_phy_spikes_subset.waveforms.npy',\n",
       " 'alf/probe00/pykilosort/#2024-05-06#/channels.brainLocationIds_ccf_2017.npy',\n",
       " 'alf/probe00/pykilosort/#2024-05-06#/channels.labels.npy',\n",
       " 'alf/probe00/pykilosort/#2024-05-06#/channels.localCoordinates.npy',\n",
       " 'alf/probe00/pykilosort/#2024-05-06#/channels.mlapdv.npy',\n",
       " 'alf/probe00/pykilosort/#2024-05-06#/channels.rawInd.npy',\n",
       " 'alf/probe00/pykilosort/#2024-05-06#/clusters.amps.npy',\n",
       " 'alf/probe00/pykilosort/#2024-05-06#/clusters.channels.npy',\n",
       " 'alf/probe00/pykilosort/#2024-05-06#/clusters.depths.npy',\n",
       " 'alf/probe00/pykilosort/#2024-05-06#/clusters.metrics.pqt',\n",
       " 'alf/probe00/pykilosort/#2024-05-06#/clusters.peakToTrough.npy',\n",
       " 'alf/probe00/pykilosort/#2024-05-06#/clusters.uuids.csv',\n",
       " 'alf/probe00/pykilosort/#2024-05-06#/clusters.waveforms.npy',\n",
       " 'alf/probe00/pykilosort/#2024-05-06#/clusters.waveformsChannels.npy',\n",
       " 'alf/probe00/pykilosort/#2024-05-06#/drift.times.npy',\n",
       " 'alf/probe00/pykilosort/#2024-05-06#/drift.um.npy',\n",
       " 'alf/probe00/pykilosort/#2024-05-06#/drift_depths.um.npy',\n",
       " 'alf/probe00/pykilosort/#2024-05-06#/passingSpikes.table.pqt',\n",
       " 'alf/probe00/pykilosort/#2024-05-06#/spikes.amps.npy',\n",
       " 'alf/probe00/pykilosort/#2024-05-06#/spikes.clusters.npy',\n",
       " 'alf/probe00/pykilosort/#2024-05-06#/spikes.depths.npy',\n",
       " 'alf/probe00/pykilosort/#2024-05-06#/spikes.samples.npy',\n",
       " 'alf/probe00/pykilosort/#2024-05-06#/spikes.templates.npy',\n",
       " 'alf/probe00/pykilosort/#2024-05-06#/spikes.times.npy',\n",
       " 'alf/probe00/pykilosort/#2024-05-06#/templates.amps.npy',\n",
       " 'alf/probe00/pykilosort/#2024-05-06#/templates.waveforms.npy',\n",
       " 'alf/probe00/pykilosort/#2024-05-06#/templates.waveformsChannels.npy',\n",
       " 'alf/probe00/pykilosort/#2024-05-06#/waveforms.channels.npz',\n",
       " 'alf/probe00/pykilosort/#2024-05-06#/waveforms.table.pqt',\n",
       " 'alf/probe00/pykilosort/#2024-05-06#/waveforms.templates.npy',\n",
       " 'alf/probe00/pykilosort/#2024-05-06#/waveforms.traces.npy',\n",
       " 'alf/probe00/pykilosort/_ibl_log.info_pykilosort.log',\n",
       " 'alf/probe00/pykilosort/_kilosort_whitening.matrix.npy',\n",
       " 'alf/probe00/pykilosort/_phy_spikes_subset.channels.npy',\n",
       " 'alf/probe00/pykilosort/_phy_spikes_subset.spikes.npy',\n",
       " 'alf/probe00/pykilosort/_phy_spikes_subset.waveforms.npy',\n",
       " 'alf/probe00/pykilosort/channels.brainLocationIds_ccf_2017.npy',\n",
       " 'alf/probe00/pykilosort/channels.localCoordinates.npy',\n",
       " 'alf/probe00/pykilosort/channels.mlapdv.npy',\n",
       " 'alf/probe00/pykilosort/channels.rawInd.npy',\n",
       " 'alf/probe00/pykilosort/clusters.amps.npy',\n",
       " 'alf/probe00/pykilosort/clusters.channels.npy',\n",
       " 'alf/probe00/pykilosort/clusters.depths.npy',\n",
       " 'alf/probe00/pykilosort/clusters.metrics.pqt',\n",
       " 'alf/probe00/pykilosort/clusters.peakToTrough.npy',\n",
       " 'alf/probe00/pykilosort/clusters.uuids.csv',\n",
       " 'alf/probe00/pykilosort/clusters.waveforms.npy',\n",
       " 'alf/probe00/pykilosort/clusters.waveformsChannels.npy',\n",
       " 'alf/probe00/pykilosort/drift.times.npy',\n",
       " 'alf/probe00/pykilosort/drift.um.npy',\n",
       " 'alf/probe00/pykilosort/drift_depths.um.npy',\n",
       " 'alf/probe00/pykilosort/spikes.amps.npy',\n",
       " 'alf/probe00/pykilosort/spikes.clusters.npy',\n",
       " 'alf/probe00/pykilosort/spikes.depths.npy',\n",
       " 'alf/probe00/pykilosort/spikes.samples.npy',\n",
       " 'alf/probe00/pykilosort/spikes.templates.npy',\n",
       " 'alf/probe00/pykilosort/spikes.times.npy',\n",
       " 'alf/probe00/pykilosort/templates.amps.npy',\n",
       " 'alf/probe00/pykilosort/templates.waveforms.npy',\n",
       " 'alf/probe00/pykilosort/templates.waveformsChannels.npy',\n",
       " 'alf/probes.description.json',\n",
       " 'alf/rightCamera.ROIMotionEnergy.npy',\n",
       " 'alf/rightROIMotionEnergy.position.npy',\n",
       " 'raw_ephys_data/_spikeglx_ephysData_g0_t0.nidq.cbin',\n",
       " 'raw_ephys_data/_spikeglx_ephysData_g0_t0.nidq.ch',\n",
       " 'raw_ephys_data/_spikeglx_ephysData_g0_t0.nidq.meta',\n",
       " 'raw_ephys_data/_spikeglx_ephysData_g0_t0.nidq.wiring.json',\n",
       " 'raw_ephys_data/_spikeglx_sync.channels.npy',\n",
       " 'raw_ephys_data/_spikeglx_sync.polarities.npy',\n",
       " 'raw_ephys_data/_spikeglx_sync.times.npy',\n",
       " 'raw_ephys_data/probe00/_iblqc_ephysChannels.apRMS.npy',\n",
       " 'raw_ephys_data/probe00/_iblqc_ephysChannels.rawSpikeRates.npy',\n",
       " 'raw_ephys_data/probe00/_iblqc_ephysSpectralDensityAP.freqs.npy',\n",
       " 'raw_ephys_data/probe00/_iblqc_ephysSpectralDensityAP.power.npy',\n",
       " 'raw_ephys_data/probe00/_iblqc_ephysSpectralDensityLF.freqs.npy',\n",
       " 'raw_ephys_data/probe00/_iblqc_ephysSpectralDensityLF.power.npy',\n",
       " 'raw_ephys_data/probe00/_iblqc_ephysTimeRmsAP.rms.npy',\n",
       " 'raw_ephys_data/probe00/_iblqc_ephysTimeRmsAP.timestamps.npy',\n",
       " 'raw_ephys_data/probe00/_iblqc_ephysTimeRmsLF.rms.npy',\n",
       " 'raw_ephys_data/probe00/_iblqc_ephysTimeRmsLF.timestamps.npy',\n",
       " 'raw_ephys_data/probe00/_spikeglx_ephysData_g0_t0.imec0.ap.cbin',\n",
       " 'raw_ephys_data/probe00/_spikeglx_ephysData_g0_t0.imec0.ap.ch',\n",
       " 'raw_ephys_data/probe00/_spikeglx_ephysData_g0_t0.imec0.ap.meta',\n",
       " 'raw_ephys_data/probe00/_spikeglx_ephysData_g0_t0.imec0.lf.cbin',\n",
       " 'raw_ephys_data/probe00/_spikeglx_ephysData_g0_t0.imec0.lf.ch',\n",
       " 'raw_ephys_data/probe00/_spikeglx_ephysData_g0_t0.imec0.lf.meta',\n",
       " 'raw_ephys_data/probe00/_spikeglx_ephysData_g0_t0.imec0.sync.npy',\n",
       " 'raw_ephys_data/probe00/_spikeglx_ephysData_g0_t0.imec0.timestamps.npy',\n",
       " 'raw_ephys_data/probe00/_spikeglx_ephysData_g0_t0.imec0.wiring.json',\n",
       " 'raw_ephys_data/probe00/_spikeglx_sync.channels.probe00.npy',\n",
       " 'raw_ephys_data/probe00/_spikeglx_sync.polarities.probe00.npy',\n",
       " 'raw_ephys_data/probe00/_spikeglx_sync.times.probe00.npy',\n",
       " 'raw_passive_data/_iblrig_RFMapStim.raw.bin',\n",
       " 'raw_video_data/_iblrig_leftCamera.raw.mp4',\n",
       " 'raw_video_data/_iblrig_rightCamera.raw.mp4']"
      ]
     },
     "execution_count": 7,
     "metadata": {},
     "output_type": "execute_result"
    }
   ],
   "source": [
    "one.list_datasets(\"db4df448-e449-4a6f-a0e7-288711e7a75a\")"
   ]
  },
  {
   "cell_type": "code",
   "execution_count": 30,
   "metadata": {},
   "outputs": [],
   "source": [
    "eid = ephys_eid[1]"
   ]
  },
  {
   "cell_type": "code",
   "execution_count": 32,
   "metadata": {},
   "outputs": [
    {
     "name": "stderr",
     "output_type": "stream",
     "text": [
      "/home/nuttidalab/Downloads/ONE/openalyx.internationalbrainlab.org/danlab/Subjects/DY_016/2020-09-12/001/alf/_ibl_wheel.timestamps.npy: 100%|██████████| 6.04M/6.04M [00:00<00:00, 11.5MB/s]\n",
      "/home/nuttidalab/Downloads/ONE/openalyx.internationalbrainlab.org/danlab/Subjects/DY_016/2020-09-12/001/alf/_ibl_wheel.position.npy: 100%|██████████| 6.04M/6.04M [00:00<00:00, 17.9MB/s]\n"
     ]
    }
   ],
   "source": [
    "wheel = one.load_object(eid, 'wheel')"
   ]
  },
  {
   "cell_type": "code",
   "execution_count": 34,
   "metadata": {},
   "outputs": [],
   "source": [
    "wheel_times = wheel['timestamps']\n",
    "wheel_position = wheel['position']"
   ]
  },
  {
   "cell_type": "code",
   "execution_count": 38,
   "metadata": {},
   "outputs": [
    {
     "data": {
      "text/plain": [
       "3668.940002643669"
      ]
     },
     "execution_count": 38,
     "metadata": {},
     "output_type": "execute_result"
    }
   ],
   "source": [
    "wheel_times[-1]"
   ]
  },
  {
   "cell_type": "code",
   "execution_count": 41,
   "metadata": {},
   "outputs": [
    {
     "data": {
      "text/plain": [
       "array([ 0.00153398, -0.        , -0.00153398, -0.00306796, -0.00460194,\n",
       "       -0.00613592, -0.0076699 , -0.00613592, -0.00460194, -0.00306796])"
      ]
     },
     "execution_count": 41,
     "metadata": {},
     "output_type": "execute_result"
    }
   ],
   "source": [
    "wheel_position[:10]"
   ]
  },
  {
   "cell_type": "code",
   "execution_count": 42,
   "metadata": {},
   "outputs": [
    {
     "data": {
      "text/plain": [
       "[<matplotlib.lines.Line2D at 0x7fcd42569f90>]"
      ]
     },
     "execution_count": 42,
     "metadata": {},
     "output_type": "execute_result"
    },
    {
     "data": {
      "image/png": "[encoded data removed]",
      "text/plain": [
       "<Figure size 640x480 with 1 Axes>"
      ]
     },
     "metadata": {},
     "output_type": "display_data"
    }
   ],
   "source": [
    "plt.plot(wheel_times, wheel_position)"
   ]
  },
  {
   "cell_type": "code",
   "execution_count": 44,
   "metadata": {},
   "outputs": [
    {
     "data": {
      "text/plain": [
       "array([ 0.00153398, -0.        , -0.00153398, -0.00306796, -0.00460194,\n",
       "       -0.00613592, -0.0076699 , -0.00613592, -0.00460194, -0.00306796])"
      ]
     },
     "execution_count": 44,
     "metadata": {},
     "output_type": "execute_result"
    }
   ],
   "source": [
    "wheel_position[:10]"
   ]
  },
  {
   "cell_type": "code",
   "execution_count": 49,
   "metadata": {},
   "outputs": [
    {
     "data": {
      "text/plain": [
       "35.679931650035684"
      ]
     },
     "execution_count": 49,
     "metadata": {},
     "output_type": "execute_result"
    }
   ],
   "source": [
    "wheel_times[15500]"
   ]
  },
  {
   "cell_type": "code",
   "execution_count": 50,
   "metadata": {},
   "outputs": [
    {
     "data": {
      "text/plain": [
       "[<matplotlib.lines.Line2D at 0x7fcd4113aaa0>]"
      ]
     },
     "execution_count": 50,
     "metadata": {},
     "output_type": "execute_result"
    },
    {
     "data": {
      "image/png": "[encoded data removed]",
      "text/plain": [
       "<Figure size 640x480 with 1 Axes>"
      ]
     },
     "metadata": {},
     "output_type": "display_data"
    }
   ],
   "source": [
    "plt.plot(wheel_times[:15500], wheel_position[:15500])"
   ]
  },
  {
   "cell_type": "code",
   "execution_count": 82,
   "metadata": {},
   "outputs": [
    {
     "data": {
      "text/plain": [
       "[<matplotlib.lines.Line2D at 0x7fcd4268bb80>]"
      ]
     },
     "execution_count": 82,
     "metadata": {},
     "output_type": "execute_result"
    },
    {
     "data": {
      "image/png": "[encoded data removed]",
      "text/plain": [
       "<Figure size 640x480 with 1 Axes>"
      ]
     },
     "metadata": {},
     "output_type": "display_data"
    }
   ],
   "source": [
    "plt.plot(wheel_times[17725:17850], wheel_position[17725:17850])"
   ]
  },
  {
   "cell_type": "code",
   "execution_count": 66,
   "metadata": {},
   "outputs": [
    {
     "data": {
      "text/plain": [
       "(array([35.51233734, 41.07245696, 44.32386838]),\n",
       " array([22.21161195, 40.80565236, 43.51141509]))"
      ]
     },
     "execution_count": 66,
     "metadata": {},
     "output_type": "execute_result"
    }
   ],
   "source": [
    "trials[\"response_times\"][:3], trials[\"stimOn_times\"][:3]"
   ]
  },
  {
   "cell_type": "code",
   "execution_count": 81,
   "metadata": {},
   "outputs": [
    {
     "data": {
      "text/plain": [
       "41.08892403004109"
      ]
     },
     "execution_count": 81,
     "metadata": {},
     "output_type": "execute_result"
    }
   ],
   "source": [
    "wheel_times[17850]"
   ]
  },
  {
   "cell_type": "code",
   "execution_count": null,
   "metadata": {},
   "outputs": [],
   "source": []
  },
  {
   "cell_type": "code",
   "execution_count": 10,
   "metadata": {},
   "outputs": [
    {
     "name": "stderr",
     "output_type": "stream",
     "text": [
      "100%|██████████| 22/22.0 [00:06<00:00,  3.37it/s]\n"
     ]
    }
   ],
   "source": [
    "video = one.load_dataset(eid, f'*leftCamera.raw.mp4', collection='raw_video_data')\n",
    "times = one.load_dataset(eid, f'*leftCamera.times.npy', collection='alf')"
   ]
  },
  {
   "cell_type": "code",
   "execution_count": 11,
   "metadata": {},
   "outputs": [
    {
     "data": {
      "text/plain": [
       "PosixPath('/home/nuttidalab/Downloads/ONE/openalyx.internationalbrainlab.org/danlab/Subjects/DY_016/2020-09-12/001/raw_video_data/_iblrig_leftCamera.raw.mp4')"
      ]
     },
     "execution_count": 11,
     "metadata": {},
     "output_type": "execute_result"
    }
   ],
   "source": [
    "video"
   ]
  },
  {
   "cell_type": "code",
   "execution_count": 12,
   "metadata": {},
   "outputs": [
    {
     "data": {
      "text/plain": [
       "(218896,)"
      ]
     },
     "execution_count": 12,
     "metadata": {},
     "output_type": "execute_result"
    }
   ],
   "source": [
    "times\n",
    "times.shape"
   ]
  },
  {
   "cell_type": "code",
   "execution_count": 13,
   "metadata": {},
   "outputs": [
    {
     "name": "stdout",
     "output_type": "stream",
     "text": [
      "(208000, 4)\n",
      "(218000, 4)\n",
      "(284000, 4)\n",
      "(228000, 4)\n",
      "(254000, 4)\n",
      "(274000, 4)\n",
      "(360000, 4)\n",
      "(316000, 4)\n",
      "(196000, 4)\n",
      "(324000, 4)\n",
      "(280000, 4)\n",
      "(230000, 4)\n",
      "(296000, 4)\n",
      "(310000, 4)\n",
      "(374000, 4)\n",
      "(376000, 4)\n",
      "(310000, 4)\n",
      "(300000, 4)\n",
      "(272000, 4)\n",
      "(248000, 4)\n",
      "(234000, 4)\n",
      "(288000, 4)\n",
      "(224000, 4)\n",
      "(348000, 4)\n",
      "(250000, 4)\n",
      "(356000, 4)\n",
      "(264000, 4)\n",
      "(340000, 4)\n",
      "(240000, 4)\n",
      "(364000, 4)\n",
      "(304000, 4)\n",
      "(210000, 4)\n",
      "(248000, 4)\n",
      "(238000, 4)\n",
      "(238000, 4)\n",
      "(196000, 4)\n",
      "(300000, 4)\n",
      "(384000, 4)\n",
      "(392000, 4)\n",
      "(288000, 4)\n",
      "(256000, 4)\n",
      "(270000, 4)\n",
      "(430000, 4)\n",
      "(238000, 4)\n",
      "(394000, 4)\n",
      "(304000, 4)\n",
      "(356000, 4)\n",
      "(298000, 4)\n",
      "(278000, 4)\n",
      "(392000, 4)\n",
      "(272000, 4)\n",
      "(244000, 4)\n",
      "(228000, 4)\n"
     ]
    }
   ],
   "source": [
    "for eid in ephys_eid:\n",
    "    df = pd.read_csv(f\"data/frame_probs/{eid}_probs.csv\")\n",
    "    print(df.shape)"
   ]
  },
  {
   "cell_type": "code",
   "execution_count": 15,
   "metadata": {},
   "outputs": [],
   "source": [
    "# glm_save_path = save_data_path(figure='fig_mtnn').joinpath('glm_hmm', 'k=4')\n",
    "# download_glm_hmm()"
   ]
  },
  {
   "cell_type": "code",
   "execution_count": null,
   "metadata": {},
   "outputs": [],
   "source": []
  },
  {
   "cell_type": "code",
   "execution_count": null,
   "metadata": {},
   "outputs": [],
   "source": []
  },
  {
   "cell_type": "code",
   "execution_count": null,
   "metadata": {},
   "outputs": [],
   "source": []
  },
  {
   "cell_type": "code",
   "execution_count": null,
   "metadata": {},
   "outputs": [],
   "source": []
  },
  {
   "cell_type": "code",
   "execution_count": null,
   "metadata": {},
   "outputs": [],
   "source": []
  },
  {
   "cell_type": "code",
   "execution_count": null,
   "metadata": {},
   "outputs": [],
   "source": []
  },
  {
   "cell_type": "code",
   "execution_count": null,
   "metadata": {},
   "outputs": [],
   "source": []
  },
  {
   "cell_type": "code",
   "execution_count": null,
   "metadata": {},
   "outputs": [],
   "source": []
  },
  {
   "cell_type": "code",
   "execution_count": null,
   "metadata": {},
   "outputs": [],
   "source": []
  },
  {
   "cell_type": "code",
   "execution_count": null,
   "metadata": {},
   "outputs": [],
   "source": []
  },
  {
   "cell_type": "code",
   "execution_count": null,
   "metadata": {},
   "outputs": [],
   "source": []
  },
  {
   "cell_type": "code",
   "execution_count": null,
   "metadata": {},
   "outputs": [],
   "source": []
  },
  {
   "cell_type": "code",
   "execution_count": null,
   "metadata": {},
   "outputs": [],
   "source": []
  }
 ],
 "metadata": {
  "kernelspec": {
   "display_name": "iblenv",
   "language": "python",
   "name": "python3"
  },
  "language_info": {
   "codemirror_mode": {
    "name": "ipython",
    "version": 3
   },
   "file_extension": ".py",
   "mimetype": "text/x-python",
   "name": "python",
   "nbconvert_exporter": "python",
   "pygments_lexer": "ipython3",
   "version": "3.10.14"
  }
 },
 "nbformat": 4,
 "nbformat_minor": 2
}
