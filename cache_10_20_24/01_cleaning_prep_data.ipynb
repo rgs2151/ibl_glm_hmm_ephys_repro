{
 "cells": [
  {
   "cell_type": "code",
   "execution_count": 1,
   "metadata": {},
   "outputs": [],
   "source": [
    "import brainbox\n",
    "from fig_mtnn.fig_mtnn_load_data import download_glm_hmm, save_data_path\n",
    "from one.api import ONE\n",
    "import pandas as pd\n",
    "import numpy as np\n",
    "import matplotlib.pyplot as plt\n",
    "import seaborn as sns\n",
    "\n",
    "# pd.set_option('display.max_colwidth', None)"
   ]
  },
  {
   "cell_type": "code",
   "execution_count": 2,
   "metadata": {},
   "outputs": [],
   "source": [
    "one = ONE(silent=True, password='international')\n",
    "glm_save_path = save_data_path(figure='fig_mtnn').joinpath('glm_hmm', 'k=4')\n",
    "# download_glm_hmm()"
   ]
  },
  {
   "cell_type": "code",
   "execution_count": 3,
   "metadata": {},
   "outputs": [
    {
     "data": {
      "text/plain": [
       "{'subject': 'KS084',\n",
       " 'lab': 'cortexlab',\n",
       " 'projects': 'ibl_neuropixel_brainwide_01',\n",
       " 'task_protocol': '_iblrig_tasks_ephysChoiceWorld',\n",
       " 'number': 1,\n",
       " 'start_time': '2022-02-01T19:49:58.286000',\n",
       " 'url': 'https://openalyx.internationalbrainlab.org/sessions/b196a2ad-511b-4e90-ac99-b5a29ad25c22',\n",
       " 'local_path': PosixPath('/home/rudra/Downloads/ONE/openalyx.internationalbrainlab.org/cortexlab/Subjects/KS084/2022-02-01/001'),\n",
       " 'date': datetime.date(2022, 2, 1)}"
      ]
     },
     "execution_count": 3,
     "metadata": {},
     "output_type": "execute_result"
    }
   ],
   "source": [
    "one.get_details('b196a2ad-511b-4e90-ac99-b5a29ad25c22')"
   ]
  },
  {
   "cell_type": "code",
   "execution_count": 4,
   "metadata": {},
   "outputs": [],
   "source": [
    "# ephys_eid from Matt\n",
    "# one.search(task_protocol='ephys', details='True')\n",
    "ephys_eid = [\n",
    "    'db4df448-e449-4a6f-a0e7-288711e7a75a',  # Berkeley\n",
    "    'd23a44ef-1402-4ed7-97f5-47e9a7a504d9',  # Berkeley\n",
    "    '4a45c8ba-db6f-4f11-9403-56e06a33dfa4',  # Berkeley\n",
    "    'e535fb62-e245-4a48-b119-88ce62a6fe67',  # Berkeley\n",
    "    '54238fd6-d2d0-4408-b1a9-d19d24fd29ce',  # Berkeley\n",
    "    'b03fbc44-3d8e-4a6c-8a50-5ea3498568e0',  # Berkeley\n",
    "    '30c4e2ab-dffc-499d-aae4-e51d6b3218c2',  # CCU\n",
    "    'd0ea3148-948d-4817-94f8-dcaf2342bbbe',  # CCU\n",
    "    'a4a74102-2af5-45dc-9e41-ef7f5aed88be',  # CCU\n",
    "    '746d1902-fa59-4cab-b0aa-013be36060d5',  # CCU\n",
    "    '88224abb-5746-431f-9c17-17d7ef806e6a',  # CCU\n",
    "    '0802ced5-33a3-405e-8336-b65ebc5cb07c',  # CCU\n",
    "    'ee40aece-cffd-4edb-a4b6-155f158c666a',  # CCU\n",
    "    'c7248e09-8c0d-40f2-9eb4-700a8973d8c8',  # CCU\n",
    "    '72cb5550-43b4-4ef0-add5-e4adfdfb5e02',  # CCU\n",
    "    'dda5fc59-f09a-4256-9fb5-66c67667a466',  # CSHL(C)\n",
    "    '4b7fbad4-f6de-43b4-9b15-c7c7ef44db4b',  # CSHL(C)\n",
    "    'f312aaec-3b6f-44b3-86b4-3a0c119c0438',  # CSHL(C)\n",
    "    '4b00df29-3769-43be-bb40-128b1cba6d35',  # CSHL(C)\n",
    "    'ecb5520d-1358-434c-95ec-93687ecd1396',  # CSHL(C)\n",
    "    '51e53aff-1d5d-4182-a684-aba783d50ae5',  # NYU\n",
    "    'f140a2ec-fd49-4814-994a-fe3476f14e66',  # NYU\n",
    "    'a8a8af78-16de-4841-ab07-fde4b5281a03',  # NYU\n",
    "    '61e11a11-ab65-48fb-ae08-3cb80662e5d6',  # NYU\n",
    "    '73918ae1-e4fd-4c18-b132-00cb555b1ad2',  # Princeton\n",
    "    'd9f0c293-df4c-410a-846d-842e47c6b502',  # Princeton\n",
    "    'dac3a4c1-b666-4de0-87e8-8c514483cacf',  # SWC(H)\n",
    "    '6f09ba7e-e3ce-44b0-932b-c003fb44fb89',  # SWC(H)\n",
    "    '56b57c38-2699-4091-90a8-aba35103155e',  # SWC(M)\n",
    "    '3638d102-e8b6-4230-8742-e548cd87a949',  # SWC(M)\n",
    "    '7cb81727-2097-4b52-b480-c89867b5b34c',  # SWC(M)\n",
    "    '781b35fd-e1f0-4d14-b2bb-95b7263082bb',  # UCL\n",
    "    '3f859b5c-e73a-4044-b49e-34bb81e96715',  # UCL\n",
    "    'b22f694e-4a34-4142-ab9d-2556c3487086',  # UCL\n",
    "    '0a018f12-ee06-4b11-97aa-bbbff5448e9f',  # UCL\n",
    "    'aad23144-0e52-4eac-80c5-c4ee2decb198',  # UCL\n",
    "    'b196a2ad-511b-4e90-ac99-b5a29ad25c22',  # UCL\n",
    "    'e45481fa-be22-4365-972c-e7404ed8ab5a',  # UCL\n",
    "    'd04feec7-d0b7-4f35-af89-0232dd975bf0',  # UCL\n",
    "    '1b715600-0cbc-442c-bd00-5b0ac2865de1',  # UCL\n",
    "    'c7bf2d49-4937-4597-b307-9f39cb1c7b16',  # UCL\n",
    "    '8928f98a-b411-497e-aa4b-aa752434686d',  # UCL\n",
    "    'ebce500b-c530-47de-8cb1-963c552703ea',  # UCLA\n",
    "    'dc962048-89bb-4e6a-96a9-b062a2be1426',  # UCLA\n",
    "    '6899a67d-2e53-4215-a52a-c7021b5da5d4',  # UCLA\n",
    "    '15b69921-d471-4ded-8814-2adad954bcd8',  # UCLA\n",
    "    '5ae68c54-2897-4d3a-8120-426150704385',  # UCLA\n",
    "    'ca4ecb4c-4b60-4723-9b9e-2c54a6290a53',  # UCLA\n",
    "    '824cf03d-4012-4ab1-b499-c83a92c5589e',  # UCLA\n",
    "    '3bcb81b4-d9ca-4fc9-a1cd-353a966239ca',  # UW\n",
    "    'f115196e-8dfe-4d2a-8af3-8206d93c1729',  # UW\n",
    "    '9b528ad0-4599-4a55-9148-96cc1d93fb24',  # UW\n",
    "    '3e6a97d3-3991-49e2-b346-6948cb4580fb',  # UW\n",
    "]"
   ]
  },
  {
   "cell_type": "markdown",
   "metadata": {},
   "source": [
    "# Validating the ephys data"
   ]
  },
  {
   "cell_type": "code",
   "execution_count": 5,
   "metadata": {},
   "outputs": [],
   "source": [
    "# list all files in actual_data_path\n",
    "all_glm_data = pd.DataFrame()\n",
    "for file_path in sorted(glm_save_path.glob('*')):\n",
    "    glm_hmm_file = pd.read_parquet(file_path, engine='pyarrow')\n",
    "\n",
    "    # add the file name column to this dataframe for all rows file_path.name.split('_')[:-2]\n",
    "    glm_hmm_file['subject'] = [file_path.name[:-17]] * len(glm_hmm_file)\n",
    "\n",
    "    all_glm_data = pd.concat([all_glm_data, glm_hmm_file], axis=0)"
   ]
  },
  {
   "cell_type": "code",
   "execution_count": 6,
   "metadata": {},
   "outputs": [
    {
     "name": "stdout",
     "output_type": "stream",
     "text": [
      "db4df448-e449-4a6f-a0e7-288711e7a75a: 402 - subject: DY_009\n",
      "d23a44ef-1402-4ed7-97f5-47e9a7a504d9: 410 - subject: DY_016\n",
      "4a45c8ba-db6f-4f11-9403-56e06a33dfa4: 401 - subject: DY_020\n",
      "e535fb62-e245-4a48-b119-88ce62a6fe67: 434 - subject: DY_013\n",
      "54238fd6-d2d0-4408-b1a9-d19d24fd29ce: 623 - subject: DY_018\n",
      "b03fbc44-3d8e-4a6c-8a50-5ea3498568e0: 402 - subject: DY_010\n",
      "30c4e2ab-dffc-499d-aae4-e51d6b3218c2: 841 - subject: ZFM-02370\n",
      "d0ea3148-948d-4817-94f8-dcaf2342bbbe: 560 - subject: ZFM-01936\n",
      "a4a74102-2af5-45dc-9e41-ef7f5aed88be: 408 - subject: ZFM-02368\n",
      "746d1902-fa59-4cab-b0aa-013be36060d5: 660 - subject: ZFM-01592\n",
      "88224abb-5746-431f-9c17-17d7ef806e6a: 452 - subject: ZFM-02372\n",
      "0802ced5-33a3-405e-8336-b65ebc5cb07c: 424 - subject: ZFM-02373\n",
      "ee40aece-cffd-4edb-a4b6-155f158c666a: 994 - subject: ZM_2241\n",
      "c7248e09-8c0d-40f2-9eb4-700a8973d8c8: 780 - subject: ZM_3001\n",
      "72cb5550-43b4-4ef0-add5-e4adfdfb5e02: 733 - subject: ZFM-02369\n",
      "dda5fc59-f09a-4256-9fb5-66c67667a466: 751 - subject: CSHL059\n",
      "4b7fbad4-f6de-43b4-9b15-c7c7ef44db4b: 842 - subject: CSHL049\n",
      "f312aaec-3b6f-44b3-86b4-3a0c119c0438: 626 - subject: CSHL058\n",
      "4b00df29-3769-43be-bb40-128b1cba6d35: 812 - subject: CSHL052\n",
      "ecb5520d-1358-434c-95ec-93687ecd1396: 510 - subject: CSHL051\n",
      "51e53aff-1d5d-4182-a684-aba783d50ae5: 505 - subject: NYU-45\n",
      "f140a2ec-fd49-4814-994a-fe3476f14e66: 403 - subject: NYU-47\n",
      "a8a8af78-16de-4841-ab07-fde4b5281a03: 550 - subject: NYU-12\n",
      "61e11a11-ab65-48fb-ae08-3cb80662e5d6: 891 - subject: NYU-21\n",
      "73918ae1-e4fd-4c18-b132-00cb555b1ad2: 625 - subject: ibl_witten_27\n",
      "d9f0c293-df4c-410a-846d-842e47c6b502: 401 - subject: ibl_witten_25\n",
      "dac3a4c1-b666-4de0-87e8-8c514483cacf: 501 - subject: SWC_060\n",
      "6f09ba7e-e3ce-44b0-932b-c003fb44fb89: 551 - subject: SWC_043\n",
      "56b57c38-2699-4091-90a8-aba35103155e: 571 - subject: SWC_054\n",
      "3638d102-e8b6-4230-8742-e548cd87a949: 695 - subject: SWC_058\n",
      "7cb81727-2097-4b52-b480-c89867b5b34c: 658 - subject: SWC_052\n",
      "781b35fd-e1f0-4d14-b2bb-95b7263082bb: 471 - subject: KS044\n",
      "3f859b5c-e73a-4044-b49e-34bb81e96715: 490 - subject: KS094\n",
      "b22f694e-4a34-4142-ab9d-2556c3487086: 480 - subject: KS055\n",
      "0a018f12-ee06-4b11-97aa-bbbff5448e9f: 478 - subject: KS051\n",
      "aad23144-0e52-4eac-80c5-c4ee2decb198: 641 - subject: KS023\n",
      "b196a2ad-511b-4e90-ac99-b5a29ad25c22: 437 - subject: KS084\n",
      "e45481fa-be22-4365-972c-e7404ed8ab5a: 525 - subject: KS086\n",
      "d04feec7-d0b7-4f35-af89-0232dd975bf0: 402 - subject: KS089\n",
      "1b715600-0cbc-442c-bd00-5b0ac2865de1: 437 - subject: KS084\n",
      "c7bf2d49-4937-4597-b307-9f39cb1c7b16: 587 - subject: KS074\n",
      "8928f98a-b411-497e-aa4b-aa752434686d: 663 - subject: KS096\n",
      "ebce500b-c530-47de-8cb1-963c552703ea: 569 - subject: MFD_09\n",
      "dc962048-89bb-4e6a-96a9-b062a2be1426: 458 - subject: UCLA048\n",
      "6899a67d-2e53-4215-a52a-c7021b5da5d4: 402 - subject: MFD_06\n",
      "15b69921-d471-4ded-8814-2adad954bcd8: 825 - subject: MFD_07\n",
      "5ae68c54-2897-4d3a-8120-426150704385: 0 - subject: MFD_08\n",
      "ca4ecb4c-4b60-4723-9b9e-2c54a6290a53: 0 - subject: MFD_05\n",
      "824cf03d-4012-4ab1-b499-c83a92c5589e: 764 - subject: UCLA011\n",
      "3bcb81b4-d9ca-4fc9-a1cd-353a966239ca: 664 - subject: NR_0024\n",
      "f115196e-8dfe-4d2a-8af3-8206d93c1729: 645 - subject: NR_0021\n",
      "9b528ad0-4599-4a55-9148-96cc1d93fb24: 581 - subject: NR_0019\n",
      "3e6a97d3-3991-49e2-b346-6948cb4580fb: 525 - subject: NR_0020\n"
     ]
    }
   ],
   "source": [
    "sessions_to_drop = []\n",
    "\n",
    "for idx in range(len(ephys_eid)):\n",
    "\n",
    "    # filter by sessions\n",
    "    glm_hmm_sess = all_glm_data.loc[all_glm_data['session'] == ephys_eid[idx]]\n",
    "\n",
    "    session_subject = glm_hmm_sess['subject'].values[0] if len(glm_hmm_sess) > 0 else None\n",
    "\n",
    "    if len(glm_hmm_sess) == 0:\n",
    "        # session was not labeled\n",
    "\n",
    "        # get the subject name from one api\n",
    "        session_details = one.get_details(ephys_eid[idx])\n",
    "        session_subject = session_details['subject']\n",
    "        \n",
    "        # filter by that subject name and give them the session\n",
    "        all_glm_data.loc[all_glm_data['subject'] == session_subject, 'session'] = ephys_eid[idx]\n",
    "\n",
    "        # redo filter\n",
    "        glm_hmm_sess = all_glm_data.loc[all_glm_data['session'] == ephys_eid[idx]]\n",
    "\n",
    "    # If the length is still zero, then the session id does not exist in the glm hmm files\n",
    "    if len(glm_hmm_sess) == 0:\n",
    "        # As there exists no file or session id in the repro_ephys download\n",
    "        # dropping these sessions as their glm hmm has not been clculated\n",
    "        sessions_to_drop.append(ephys_eid[idx])\n",
    "    \n",
    "    print(f'{ephys_eid[idx]}: {len(glm_hmm_sess)} - subject: {session_subject}')"
   ]
  },
  {
   "cell_type": "code",
   "execution_count": 7,
   "metadata": {},
   "outputs": [
    {
     "data": {
      "text/plain": [
       "(53, 50)"
      ]
     },
     "execution_count": 7,
     "metadata": {},
     "output_type": "execute_result"
    }
   ],
   "source": [
    "# Note to self: manually dropping unlabelled files - Check with Matt about this\n",
    "validated_eids = ephys_eid.copy()\n",
    "\n",
    "# because GLM File exists but subject has 2 sessions and one unlabelled file.\n",
    "# Cannot guess which session the file belongs. - randomly choosing one of them for now\n",
    "# other session of this subject: 1b715600-0cbc-442c-bd00-5b0ac2865de1\n",
    "validated_eids.remove(\"b196a2ad-511b-4e90-ac99-b5a29ad25c22\")\n",
    "\n",
    "# because GLM File does not exist\n",
    "validated_eids.remove(\"5ae68c54-2897-4d3a-8120-426150704385\")\n",
    "validated_eids.remove(\"ca4ecb4c-4b60-4723-9b9e-2c54a6290a53\")\n",
    "\n",
    "len(ephys_eid), len(validated_eids)"
   ]
  },
  {
   "cell_type": "code",
   "execution_count": 8,
   "metadata": {},
   "outputs": [],
   "source": [
    "# drop those sessions\n",
    "# validated_eids = [x for x in ephys_eid if x not in sessions_to_drop]"
   ]
  },
  {
   "cell_type": "code",
   "execution_count": 9,
   "metadata": {},
   "outputs": [],
   "source": [
    "# one.get_details('5ae68c54-2897-4d3a-8120-426150704385')\n",
    "# one.get_details('ca4ecb4c-4b60-4723-9b9e-2c54a6290a53')"
   ]
  },
  {
   "cell_type": "code",
   "execution_count": 10,
   "metadata": {},
   "outputs": [],
   "source": [
    "val_ephys_data = all_glm_data.loc[all_glm_data['session'].isin(validated_eids)].reset_index(drop=True)"
   ]
  },
  {
   "cell_type": "markdown",
   "metadata": {},
   "source": [
    "# Appending frame probabilities\n",
    "\n",
    "``` \n",
    "from intervals_0 to intervals_1 \n",
    "frame pred labels - [\"still\", \"move\", \"wheel_turn\", \"groom\"]\n",
    "```"
   ]
  },
  {
   "cell_type": "code",
   "execution_count": 11,
   "metadata": {},
   "outputs": [],
   "source": [
    "# util functions\n",
    "def plot_states(sess_id, data):\n",
    "\n",
    "    glm_hmm_sess = load_session_data(sess_id, data)\n",
    "    glm_hmm_states = np.vstack(list(glm_hmm_sess['glm-hmm_3']))\n",
    "\n",
    "    plt.figure(figsize=(12, 5))\n",
    "    sns.heatmap(glm_hmm_states.T, cmap='turbo', cbar=True)\n",
    "    plt.title('GLM-HMM states for session:')\n",
    "    plt.xlabel('# Trials')\n",
    "    plt.ylabel('State Probabilities')\n",
    "    plt.yticks(ticks=[0.5, 1.5, 2.5], labels=['State 1', 'State 2', 'State 3'])\n",
    "    plt.show()\n",
    "\n",
    "def load_session_data(sess_id, data): return val_ephys_data.loc[val_ephys_data['session'] == sess_id].reset_index(drop=True)\n",
    "\n",
    "def load_frame_probs(sess_id): return pd.read_csv(f'data/frame_probs/{sess_id}_probs.csv')"
   ]
  },
  {
   "cell_type": "code",
   "execution_count": 12,
   "metadata": {},
   "outputs": [
    {
     "name": "stdout",
     "output_type": "stream",
     "text": [
      "402 db4df448-e449-4a6f-a0e7-288711e7a75a\n",
      "410 d23a44ef-1402-4ed7-97f5-47e9a7a504d9\n",
      "401 4a45c8ba-db6f-4f11-9403-56e06a33dfa4\n",
      "434 e535fb62-e245-4a48-b119-88ce62a6fe67\n",
      "623 54238fd6-d2d0-4408-b1a9-d19d24fd29ce\n",
      "402 b03fbc44-3d8e-4a6c-8a50-5ea3498568e0\n",
      "841 30c4e2ab-dffc-499d-aae4-e51d6b3218c2\n",
      "560 d0ea3148-948d-4817-94f8-dcaf2342bbbe\n",
      "408 a4a74102-2af5-45dc-9e41-ef7f5aed88be\n",
      "660 746d1902-fa59-4cab-b0aa-013be36060d5\n",
      "452 88224abb-5746-431f-9c17-17d7ef806e6a\n",
      "424 0802ced5-33a3-405e-8336-b65ebc5cb07c\n",
      "994 ee40aece-cffd-4edb-a4b6-155f158c666a\n",
      "780 c7248e09-8c0d-40f2-9eb4-700a8973d8c8\n",
      "733 72cb5550-43b4-4ef0-add5-e4adfdfb5e02\n",
      "751 dda5fc59-f09a-4256-9fb5-66c67667a466\n",
      "842 4b7fbad4-f6de-43b4-9b15-c7c7ef44db4b\n",
      "626 f312aaec-3b6f-44b3-86b4-3a0c119c0438\n",
      "812 4b00df29-3769-43be-bb40-128b1cba6d35\n",
      "510 ecb5520d-1358-434c-95ec-93687ecd1396\n",
      "505 51e53aff-1d5d-4182-a684-aba783d50ae5\n",
      "403 f140a2ec-fd49-4814-994a-fe3476f14e66\n",
      "550 a8a8af78-16de-4841-ab07-fde4b5281a03\n",
      "891 61e11a11-ab65-48fb-ae08-3cb80662e5d6\n",
      "625 73918ae1-e4fd-4c18-b132-00cb555b1ad2\n",
      "401 d9f0c293-df4c-410a-846d-842e47c6b502\n",
      "501 dac3a4c1-b666-4de0-87e8-8c514483cacf\n",
      "551 6f09ba7e-e3ce-44b0-932b-c003fb44fb89\n",
      "571 56b57c38-2699-4091-90a8-aba35103155e\n",
      "695 3638d102-e8b6-4230-8742-e548cd87a949\n",
      "658 7cb81727-2097-4b52-b480-c89867b5b34c\n",
      "471 781b35fd-e1f0-4d14-b2bb-95b7263082bb\n",
      "490 3f859b5c-e73a-4044-b49e-34bb81e96715\n",
      "480 b22f694e-4a34-4142-ab9d-2556c3487086\n",
      "478 0a018f12-ee06-4b11-97aa-bbbff5448e9f\n",
      "641 aad23144-0e52-4eac-80c5-c4ee2decb198\n",
      "525 e45481fa-be22-4365-972c-e7404ed8ab5a\n",
      "402 d04feec7-d0b7-4f35-af89-0232dd975bf0\n",
      "437 1b715600-0cbc-442c-bd00-5b0ac2865de1\n",
      "587 c7bf2d49-4937-4597-b307-9f39cb1c7b16\n",
      "663 8928f98a-b411-497e-aa4b-aa752434686d\n",
      "569 ebce500b-c530-47de-8cb1-963c552703ea\n",
      "458 dc962048-89bb-4e6a-96a9-b062a2be1426\n",
      "402 6899a67d-2e53-4215-a52a-c7021b5da5d4\n",
      "825 15b69921-d471-4ded-8814-2adad954bcd8\n",
      "764 824cf03d-4012-4ab1-b499-c83a92c5589e\n",
      "664 3bcb81b4-d9ca-4fc9-a1cd-353a966239ca\n",
      "645 f115196e-8dfe-4d2a-8af3-8206d93c1729\n",
      "581 9b528ad0-4599-4a55-9148-96cc1d93fb24\n",
      "525 3e6a97d3-3991-49e2-b346-6948cb4580fb\n"
     ]
    }
   ],
   "source": [
    "for sess_id in validated_eids:\n",
    "    # check the glms for each session\n",
    "    print(len(load_session_data(sess_id, val_ephys_data)[\"glm-hmm_3\"]), sess_id)"
   ]
  },
  {
   "cell_type": "code",
   "execution_count": 13,
   "metadata": {},
   "outputs": [],
   "source": [
    "complete_val_data = pd.DataFrame()\n",
    "\n",
    "for sess_id in validated_eids:\n",
    "\n",
    "    frame_states = load_frame_probs(sess_id).to_numpy()\n",
    "\n",
    "    current_sess_data = load_session_data(sess_id, val_ephys_data)\n",
    "    # Add empty columns for frame_preds, frame_start_index, frame_end_index\n",
    "    current_sess_data['trial_idx'] = current_sess_data.index\n",
    "    current_sess_data['frame_preds'] = [np.nan] * len(current_sess_data)\n",
    "    current_sess_data['frame_start_index'] = np.nan\n",
    "    current_sess_data['frame_end_index'] = np.nan\n",
    "\n",
    "    current_sess_data = current_sess_data.astype({\n",
    "        'trial_idx': 'int',\n",
    "        'frame_preds': 'object',\n",
    "        'frame_start_index': 'object',\n",
    "        'frame_end_index': 'object'\n",
    "    })\n",
    "\n",
    "    intervals = current_sess_data[['intervals_0', 'intervals_1']].to_numpy()\n",
    "\n",
    "    max_scale = intervals.max()\n",
    "    scale_factor = len(frame_states) / max_scale\n",
    "\n",
    "    # Calculate start and end indices using vectorized operations\n",
    "    f_start_indices = (intervals[:, 0] * scale_factor).astype(int)\n",
    "    f_end_indices = (intervals[:, 1] * scale_factor).astype(int)\n",
    "\n",
    "    # Loop through all trials of current_sess_data to assign numpy arrays\n",
    "    for idx in range(len(current_sess_data)):\n",
    "        f_start_index = f_start_indices[idx]\n",
    "        f_end_index = f_end_indices[idx]\n",
    "        \n",
    "        # Get the frame preds\n",
    "        f_preds = frame_states[f_start_index:f_end_index]\n",
    "\n",
    "        # Save them to the validated dataframe\n",
    "        current_sess_data.at[idx, 'frame_preds'] = f_preds\n",
    "        current_sess_data.at[idx, 'frame_start_index'] = f_start_index\n",
    "        current_sess_data.at[idx, 'frame_end_index'] = f_end_index\n",
    "\n",
    "    complete_val_data = pd.concat([complete_val_data, current_sess_data], axis=0)"
   ]
  },
  {
   "cell_type": "code",
   "execution_count": 14,
   "metadata": {},
   "outputs": [],
   "source": [
    "# lets save a chache of this so that we dont have to run the above code again\n",
    "complete_val_data.to_pickle(\"data/ephys_glm_frame_data.pkl\")"
   ]
  },
  {
   "cell_type": "code",
   "execution_count": 15,
   "metadata": {},
   "outputs": [],
   "source": [
    "# select one row to check if the frame_preds are correct\n",
    "# complete_val_data.iloc[0]['frame_preds']"
   ]
  },
  {
   "cell_type": "code",
   "execution_count": 16,
   "metadata": {},
   "outputs": [
    {
     "data": {
      "text/plain": [
       "(29023, 31)"
      ]
     },
     "execution_count": 16,
     "metadata": {},
     "output_type": "execute_result"
    }
   ],
   "source": [
    "complete_val_data.shape"
   ]
  }
 ],
 "metadata": {
  "kernelspec": {
   "display_name": "plab",
   "language": "python",
   "name": "python3"
  },
  "language_info": {
   "codemirror_mode": {
    "name": "ipython",
    "version": 3
   },
   "file_extension": ".py",
   "mimetype": "text/x-python",
   "name": "python",
   "nbconvert_exporter": "python",
   "pygments_lexer": "ipython3",
   "version": "3.9.19"
  }
 },
 "nbformat": 4,
 "nbformat_minor": 2
}
