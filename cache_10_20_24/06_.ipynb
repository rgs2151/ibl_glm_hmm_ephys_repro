{
 "cells": [
  {
   "cell_type": "code",
   "execution_count": 41,
   "metadata": {},
   "outputs": [],
   "source": [
    "from one.api import ONE\n",
    "import one\n",
    "from utils import download_glm_hmm, save_data_path, val_eid\n",
    "\n",
    "import warnings\n",
    "warnings.simplefilter(action='ignore', category=FutureWarning)\n",
    "\n",
    "import pandas as pd\n",
    "import numpy as np\n",
    "import matplotlib.pyplot as plt\n",
    "import seaborn as sns\n",
    "from pathlib import Path\n",
    "import matplotlib.patches as mpatches\n"
   ]
  },
  {
   "cell_type": "code",
   "execution_count": 3,
   "metadata": {},
   "outputs": [
    {
     "data": {
      "text/plain": [
       "(29023, 31)"
      ]
     },
     "execution_count": 3,
     "metadata": {},
     "output_type": "execute_result"
    }
   ],
   "source": [
    "# Loading up the cleaned data\n",
    "data = pd.read_pickle('data/ephys_glm_frame_data.pkl')\n",
    "data.shape"
   ]
  },
  {
   "cell_type": "code",
   "execution_count": 4,
   "metadata": {},
   "outputs": [],
   "source": [
    "# add a column for the signed contrast (right - left). \n",
    "# if nan, treat it as 0\n",
    "data[\"signed_contrast\"] = data[\"contrastRight\"].fillna(0) - data[\"contrastLeft\"].fillna(0)"
   ]
  },
  {
   "cell_type": "code",
   "execution_count": 5,
   "metadata": {},
   "outputs": [
    {
     "data": {
      "text/plain": [
       "Index(['stimOnTrigger_times', 'repNum', 'goCueTrigger_times',\n",
       "       'quiescencePeriod', 'contrastLeft', 'rewardVolume', 'probabilityLeft',\n",
       "       'firstMovement_times', 'goCue_times', 'contrastRight', 'feedback_times',\n",
       "       'feedbackType', 'choice', 'stimOn_times', 'response_times', 'session',\n",
       "       'stimOff_times', 'glm-hmm_5', 'glm-hmm_3', 'glm-hmm_2', 'glm-hmm_4',\n",
       "       'intervals_0', 'intervals_1', 'intervals_bpod_0', 'intervals_bpod_1',\n",
       "       'subject', 'included', 'trial_idx', 'frame_preds', 'frame_start_index',\n",
       "       'frame_end_index', 'signed_contrast'],\n",
       "      dtype='object')"
      ]
     },
     "execution_count": 5,
     "metadata": {},
     "output_type": "execute_result"
    }
   ],
   "source": [
    "data.columns"
   ]
  },
  {
   "cell_type": "code",
   "execution_count": 6,
   "metadata": {},
   "outputs": [],
   "source": [
    "def count_max_prob_classes(frame_predictions):\n",
    "    # Find the index of the max probability in each row\n",
    "    max_indices = np.argmax(frame_predictions, axis=1)\n",
    "    \n",
    "    # Count occurrences of each index\n",
    "    counts = np.bincount(max_indices, minlength=4)\n",
    "    \n",
    "    # Map counts to class names\n",
    "    class_names = [\"still\", \"move\", \"wheel_turn\", \"groom\"]\n",
    "    count_dict = {class_names[i]: counts[i] for i in range(4)}\n",
    "    \n",
    "    return count_dict"
   ]
  },
  {
   "cell_type": "code",
   "execution_count": 7,
   "metadata": {},
   "outputs": [],
   "source": [
    "adf = pd.DataFrame()\n",
    "\n",
    "for sess_id in val_eid:\n",
    "    # Get the data for the session\n",
    "    sess_data = data[data['session'] == sess_id]\n",
    "    \n",
    "    # for every trial of this session, get the frame predictions\n",
    "    for i in range(len(sess_data)):\n",
    "        # Get the data for this trial\n",
    "        trial_data = sess_data.iloc[i]\n",
    "        \n",
    "        # Get the frame predictions\n",
    "        frame_predictions = trial_data['frame_preds']\n",
    "\n",
    "        # Count the number of occurrences of each class\n",
    "        count_dict = count_max_prob_classes(frame_predictions)\n",
    "\n",
    "        # get the 3 state state model\n",
    "        state_model = trial_data['glm-hmm_4']\n",
    "\n",
    "        # rest of the columns\n",
    "        rest = trial_data[[\n",
    "            'session', 'trial_idx', 'signed_contrast',\n",
    "            'stimOnTrigger_times', 'repNum', 'goCueTrigger_times',\n",
    "            'quiescencePeriod', 'contrastLeft', 'stimOn_times', 'feedback_times',\n",
    "            'probabilityLeft', 'response_times', 'rewardVolume', 'choice',\n",
    "            'goCue_times', 'firstMovement_times', 'contrastRight', 'feedbackType',\n",
    "            'stimOff_times', 'intervals_0', 'intervals_1', 'intervals_bpod_0',\n",
    "            'intervals_bpod_1', 'subject', 'included',\n",
    "            'frame_start_index', 'frame_end_index']]\n",
    "\n",
    "        # store them in the dataframe\n",
    "        adf = pd.concat([adf, pd.DataFrame({\n",
    "            \"state_1\": [state_model[0]],\n",
    "            \"state_2\": [state_model[1]],\n",
    "            \"state_3\": [state_model[2]],\n",
    "            \"state_4\": [state_model[3]],\n",
    "            \"most_likely_state\": [['state_1', 'state_2', 'state_3', 'state_4'][np.argmax(state_model)]],\n",
    "            **count_dict,\n",
    "            **rest.to_dict()\n",
    "        })])\n"
   ]
  },
  {
   "cell_type": "code",
   "execution_count": 51,
   "metadata": {},
   "outputs": [],
   "source": [
    "adf[[ 'session', 'signed_contrast', 'choice', 'state_1', 'state_2', 'state_3', 'state_4', 'most_likely_state']].head(20)\n",
    "\n",
    "# adf.to_pickle(\"./data/adf.pkl\")"
   ]
  },
  {
   "cell_type": "code",
   "execution_count": 32,
   "metadata": {},
   "outputs": [],
   "source": [
    "one_ = ONE(silent=True, password='international')"
   ]
  },
  {
   "cell_type": "code",
   "execution_count": null,
   "metadata": {},
   "outputs": [],
   "source": [
    "# !pip install ibllib\n",
    "from one.api import ONE\n",
    "import ibllib.io.video as vidio"
   ]
  },
  {
   "cell_type": "code",
   "execution_count": 48,
   "metadata": {},
   "outputs": [
    {
     "data": {
      "text/plain": [
       "'db4df448-e449-4a6f-a0e7-288711e7a75a'"
      ]
     },
     "execution_count": 48,
     "metadata": {},
     "output_type": "execute_result"
    }
   ],
   "source": [
    "val_eid[0]"
   ]
  },
  {
   "cell_type": "code",
   "execution_count": 47,
   "metadata": {},
   "outputs": [
    {
     "ename": "AttributeError",
     "evalue": "module 'one' has no attribute 'eid2path'",
     "output_type": "error",
     "traceback": [
      "\u001b[1;31m---------------------------------------------------------------------------\u001b[0m",
      "\u001b[1;31mAttributeError\u001b[0m                            Traceback (most recent call last)",
      "Cell \u001b[1;32mIn[47], line 3\u001b[0m\n\u001b[0;32m      1\u001b[0m \u001b[38;5;66;03m# val_eid\u001b[39;00m\n\u001b[1;32m----> 3\u001b[0m url \u001b[38;5;241m=\u001b[39m \u001b[43mvidio\u001b[49m\u001b[38;5;241;43m.\u001b[39;49m\u001b[43murl_from_eid\u001b[49m\u001b[43m(\u001b[49m\u001b[43mval_eid\u001b[49m\u001b[43m[\u001b[49m\u001b[38;5;241;43m0\u001b[39;49m\u001b[43m]\u001b[49m\u001b[43m,\u001b[49m\u001b[43m \u001b[49m\u001b[43mone\u001b[49m\u001b[38;5;241;43m=\u001b[39;49m\u001b[43mone\u001b[49m\u001b[43m)\u001b[49m[\u001b[38;5;124m'\u001b[39m\u001b[38;5;124mbody\u001b[39m\u001b[38;5;124m'\u001b[39m]\n\u001b[0;32m      4\u001b[0m url\n",
      "File \u001b[1;32mc:\\Users\\our\\Desktop\\bot\\lib\\site-packages\\ibllib\\io\\video.py:165\u001b[0m, in \u001b[0;36murl_from_eid\u001b[1;34m(eid, label, one)\u001b[0m\n\u001b[0;32m    163\u001b[0m     \u001b[38;5;28;01mraise\u001b[39;00m \u001b[38;5;167;01mValueError\u001b[39;00m(\u001b[38;5;124m'\u001b[39m\u001b[38;5;124mlabels must be one of (\u001b[39m\u001b[38;5;124m\"\u001b[39m\u001b[38;5;132;01m%s\u001b[39;00m\u001b[38;5;124m\"\u001b[39m\u001b[38;5;124m)\u001b[39m\u001b[38;5;124m'\u001b[39m \u001b[38;5;241m%\u001b[39m \u001b[38;5;124m'\u001b[39m\u001b[38;5;124m\"\u001b[39m\u001b[38;5;124m, \u001b[39m\u001b[38;5;124m\"\u001b[39m\u001b[38;5;124m'\u001b[39m\u001b[38;5;241m.\u001b[39mjoin(valid_labels))\n\u001b[0;32m    164\u001b[0m one \u001b[38;5;241m=\u001b[39m one \u001b[38;5;129;01mor\u001b[39;00m ONE()\n\u001b[1;32m--> 165\u001b[0m session_path \u001b[38;5;241m=\u001b[39m \u001b[43mone\u001b[49m\u001b[38;5;241;43m.\u001b[39;49m\u001b[43meid2path\u001b[49m(one\u001b[38;5;241m.\u001b[39mto_eid(eid))\n\u001b[0;32m    167\u001b[0m \u001b[38;5;66;03m# Filter the video files\u001b[39;00m\n\u001b[0;32m    168\u001b[0m \u001b[38;5;28;01mdef\u001b[39;00m \u001b[38;5;21mmatch\u001b[39m(dataset):\n",
      "\u001b[1;31mAttributeError\u001b[0m: module 'one' has no attribute 'eid2path'"
     ]
    }
   ],
   "source": [
    "# val_eid\n",
    "\n",
    "url = vidio.url_from_eid(val_eid[0], one=one)['body']\n",
    "url"
   ]
  },
  {
   "cell_type": "code",
   "execution_count": 16,
   "metadata": {},
   "outputs": [
    {
     "name": "stderr",
     "output_type": "stream",
     "text": [
      "C:\\Users\\our\\Downloads\\ONE\\openalyx.internationalbrainlab.org\\danlab\\Subjects\\DY_009\\2020-02-27\\001\\alf\\_ibl_leftCamera.dlc.pqt: 100%|██████████| 33.6M/33.6M [00:07<00:00, 4.63MB/s]\n",
      "C:\\Users\\our\\Downloads\\ONE\\openalyx.internationalbrainlab.org\\danlab\\Subjects\\DY_009\\2020-02-27\\001\\alf\\_ibl_leftCamera.features.pqt: 100%|██████████| 3.46M/3.46M [00:01<00:00, 2.07MB/s]\n",
      "C:\\Users\\our\\Downloads\\ONE\\openalyx.internationalbrainlab.org\\danlab\\Subjects\\DY_009\\2020-02-27\\001\\alf\\#2024-06-22#\\_ibl_leftCamera.lightningPose.pqt: 100%|██████████| 24.4M/24.4M [00:03<00:00, 7.60MB/s]\n",
      "C:\\Users\\our\\Downloads\\ONE\\openalyx.internationalbrainlab.org\\danlab\\Subjects\\DY_009\\2020-02-27\\001\\alf\\#2023-04-20#\\_ibl_leftCamera.times.npy: 100%|██████████| 1.66M/1.66M [00:00<00:00, 2.09MB/s]\n",
      "C:\\Users\\our\\Downloads\\ONE\\openalyx.internationalbrainlab.org\\danlab\\Subjects\\DY_009\\2020-02-27\\001\\alf\\leftCamera.ROIMotionEnergy.npy: 100%|██████████| 1.66M/1.66M [00:00<00:00, 2.23MB/s]\n"
     ]
    },
    {
     "data": {
      "text/plain": [
       "dict_keys(['dlc', 'features', 'lightningPose', 'times', 'ROIMotionEnergy'])"
      ]
     },
     "execution_count": 16,
     "metadata": {},
     "output_type": "execute_result"
    }
   ],
   "source": [
    "cam = one.load_object(val_eid[0], 'leftCamera', collection='alf')\n",
    "cam.keys()"
   ]
  },
  {
   "cell_type": "code",
   "execution_count": 49,
   "metadata": {},
   "outputs": [
    {
     "ename": "ValueError",
     "evalue": "Invalid search term \"eid\", see `one.search_terms()`",
     "output_type": "error",
     "traceback": [
      "\u001b[1;31m---------------------------------------------------------------------------\u001b[0m",
      "\u001b[1;31mValueError\u001b[0m                                Traceback (most recent call last)",
      "Cell \u001b[1;32mIn[49], line 14\u001b[0m\n\u001b[0;32m      9\u001b[0m session_id \u001b[38;5;241m=\u001b[39m \u001b[38;5;124m'\u001b[39m\u001b[38;5;124mdb4df448-e449-4a6f-a0e7-288711e7a75a\u001b[39m\u001b[38;5;124m'\u001b[39m  \u001b[38;5;66;03m# Replace with your session ID or other identifiers\u001b[39;00m\n\u001b[0;32m     10\u001b[0m \u001b[38;5;66;03m# video_name = 'your_video_name'  # Replace with the actual video dataset name\u001b[39;00m\n\u001b[0;32m     11\u001b[0m \u001b[38;5;66;03m# save_path = 'path/to/save/video.mp4'  # Replace with your desired save path\u001b[39;00m\n\u001b[0;32m     12\u001b[0m \n\u001b[0;32m     13\u001b[0m \u001b[38;5;66;03m# Search for a session\u001b[39;00m\n\u001b[1;32m---> 14\u001b[0m session \u001b[38;5;241m=\u001b[39m \u001b[43mone\u001b[49m\u001b[38;5;241;43m.\u001b[39;49m\u001b[43msearch\u001b[49m\u001b[43m(\u001b[49m\u001b[43meid\u001b[49m\u001b[38;5;241;43m=\u001b[39;49m\u001b[43msession_id\u001b[49m\u001b[43m)\u001b[49m  \u001b[38;5;66;03m# Ensure this method is appropriate for your search criteria\u001b[39;00m\n\u001b[0;32m     15\u001b[0m session\n\u001b[0;32m     17\u001b[0m \u001b[38;5;66;03m# Load the video dataset\u001b[39;00m\n\u001b[0;32m     18\u001b[0m \u001b[38;5;66;03m# video_data = one.load_dataset(dataset_type='video', dataset_name=video_name)  # Adjust parameters based on dataset type and name\u001b[39;00m\n\u001b[0;32m     19\u001b[0m \n\u001b[1;32m   (...)\u001b[0m\n\u001b[0;32m     24\u001b[0m \n\u001b[0;32m     25\u001b[0m \u001b[38;5;66;03m# print(f'Video saved to {save_path}')\u001b[39;00m\n",
      "File \u001b[1;32mc:\\Users\\our\\Desktop\\bot\\lib\\site-packages\\one\\api.py:2160\u001b[0m, in \u001b[0;36mOneAlyx.search\u001b[1;34m(self, details, query_type, **kwargs)\u001b[0m\n\u001b[0;32m   2158\u001b[0m query_type \u001b[38;5;241m=\u001b[39m query_type \u001b[38;5;129;01mor\u001b[39;00m \u001b[38;5;28mself\u001b[39m\u001b[38;5;241m.\u001b[39mmode\n\u001b[0;32m   2159\u001b[0m \u001b[38;5;28;01mif\u001b[39;00m query_type \u001b[38;5;241m!=\u001b[39m \u001b[38;5;124m'\u001b[39m\u001b[38;5;124mremote\u001b[39m\u001b[38;5;124m'\u001b[39m:\n\u001b[1;32m-> 2160\u001b[0m     \u001b[38;5;28;01mreturn\u001b[39;00m \u001b[38;5;28msuper\u001b[39m(OneAlyx, \u001b[38;5;28mself\u001b[39m)\u001b[38;5;241m.\u001b[39msearch(details\u001b[38;5;241m=\u001b[39mdetails, query_type\u001b[38;5;241m=\u001b[39mquery_type, \u001b[38;5;241m*\u001b[39m\u001b[38;5;241m*\u001b[39mkwargs)\n\u001b[0;32m   2162\u001b[0m \u001b[38;5;66;03m# loop over input arguments and build the url\u001b[39;00m\n\u001b[0;32m   2163\u001b[0m search_terms \u001b[38;5;241m=\u001b[39m \u001b[38;5;28mself\u001b[39m\u001b[38;5;241m.\u001b[39msearch_terms(query_type\u001b[38;5;241m=\u001b[39mquery_type)\n",
      "File \u001b[1;32mc:\\Users\\our\\Desktop\\bot\\lib\\site-packages\\one\\api.py:496\u001b[0m, in \u001b[0;36mOne.search\u001b[1;34m(self, details, query_type, **kwargs)\u001b[0m\n\u001b[0;32m    494\u001b[0m \u001b[38;5;66;03m# Validate and get full name for queries\u001b[39;00m\n\u001b[0;32m    495\u001b[0m search_terms \u001b[38;5;241m=\u001b[39m \u001b[38;5;28mself\u001b[39m\u001b[38;5;241m.\u001b[39msearch_terms(query_type\u001b[38;5;241m=\u001b[39m\u001b[38;5;124m'\u001b[39m\u001b[38;5;124mlocal\u001b[39m\u001b[38;5;124m'\u001b[39m)\n\u001b[1;32m--> 496\u001b[0m queries \u001b[38;5;241m=\u001b[39m {util\u001b[38;5;241m.\u001b[39mautocomplete(k, search_terms): v \u001b[38;5;28;01mfor\u001b[39;00m k, v \u001b[38;5;129;01min\u001b[39;00m kwargs\u001b[38;5;241m.\u001b[39mitems()}\n\u001b[0;32m    497\u001b[0m \u001b[38;5;28;01mfor\u001b[39;00m key, value \u001b[38;5;129;01min\u001b[39;00m \u001b[38;5;28msorted\u001b[39m(queries\u001b[38;5;241m.\u001b[39mitems(), key\u001b[38;5;241m=\u001b[39msort_fcn):\n\u001b[0;32m    498\u001b[0m     \u001b[38;5;66;03m# key = util.autocomplete(key)  # Validate and get full name\u001b[39;00m\n\u001b[0;32m    499\u001b[0m     \u001b[38;5;66;03m# No matches; short circuit\u001b[39;00m\n\u001b[0;32m    500\u001b[0m     \u001b[38;5;28;01mif\u001b[39;00m sessions\u001b[38;5;241m.\u001b[39msize \u001b[38;5;241m==\u001b[39m \u001b[38;5;241m0\u001b[39m:\n",
      "File \u001b[1;32mc:\\Users\\our\\Desktop\\bot\\lib\\site-packages\\one\\api.py:496\u001b[0m, in \u001b[0;36m<dictcomp>\u001b[1;34m(.0)\u001b[0m\n\u001b[0;32m    494\u001b[0m \u001b[38;5;66;03m# Validate and get full name for queries\u001b[39;00m\n\u001b[0;32m    495\u001b[0m search_terms \u001b[38;5;241m=\u001b[39m \u001b[38;5;28mself\u001b[39m\u001b[38;5;241m.\u001b[39msearch_terms(query_type\u001b[38;5;241m=\u001b[39m\u001b[38;5;124m'\u001b[39m\u001b[38;5;124mlocal\u001b[39m\u001b[38;5;124m'\u001b[39m)\n\u001b[1;32m--> 496\u001b[0m queries \u001b[38;5;241m=\u001b[39m {\u001b[43mutil\u001b[49m\u001b[38;5;241;43m.\u001b[39;49m\u001b[43mautocomplete\u001b[49m\u001b[43m(\u001b[49m\u001b[43mk\u001b[49m\u001b[43m,\u001b[49m\u001b[43m \u001b[49m\u001b[43msearch_terms\u001b[49m\u001b[43m)\u001b[49m: v \u001b[38;5;28;01mfor\u001b[39;00m k, v \u001b[38;5;129;01min\u001b[39;00m kwargs\u001b[38;5;241m.\u001b[39mitems()}\n\u001b[0;32m    497\u001b[0m \u001b[38;5;28;01mfor\u001b[39;00m key, value \u001b[38;5;129;01min\u001b[39;00m \u001b[38;5;28msorted\u001b[39m(queries\u001b[38;5;241m.\u001b[39mitems(), key\u001b[38;5;241m=\u001b[39msort_fcn):\n\u001b[0;32m    498\u001b[0m     \u001b[38;5;66;03m# key = util.autocomplete(key)  # Validate and get full name\u001b[39;00m\n\u001b[0;32m    499\u001b[0m     \u001b[38;5;66;03m# No matches; short circuit\u001b[39;00m\n\u001b[0;32m    500\u001b[0m     \u001b[38;5;28;01mif\u001b[39;00m sessions\u001b[38;5;241m.\u001b[39msize \u001b[38;5;241m==\u001b[39m \u001b[38;5;241m0\u001b[39m:\n",
      "File \u001b[1;32mc:\\Users\\our\\Desktop\\bot\\lib\\site-packages\\one\\util.py:516\u001b[0m, in \u001b[0;36mautocomplete\u001b[1;34m(term, search_terms)\u001b[0m\n\u001b[0;32m    514\u001b[0m key_ \u001b[38;5;241m=\u001b[39m \u001b[38;5;28mnext\u001b[39m(full_key, \u001b[38;5;28;01mNone\u001b[39;00m)\n\u001b[0;32m    515\u001b[0m \u001b[38;5;28;01mif\u001b[39;00m \u001b[38;5;129;01mnot\u001b[39;00m key_:\n\u001b[1;32m--> 516\u001b[0m     \u001b[38;5;28;01mraise\u001b[39;00m \u001b[38;5;167;01mValueError\u001b[39;00m(\u001b[38;5;124mf\u001b[39m\u001b[38;5;124m'\u001b[39m\u001b[38;5;124mInvalid search term \u001b[39m\u001b[38;5;124m\"\u001b[39m\u001b[38;5;132;01m{\u001b[39;00mterm\u001b[38;5;132;01m}\u001b[39;00m\u001b[38;5;124m\"\u001b[39m\u001b[38;5;124m, see `one.search_terms()`\u001b[39m\u001b[38;5;124m'\u001b[39m)\n\u001b[0;32m    517\u001b[0m \u001b[38;5;28;01melif\u001b[39;00m \u001b[38;5;28mnext\u001b[39m(full_key, \u001b[38;5;28;01mNone\u001b[39;00m):\n\u001b[0;32m    518\u001b[0m     \u001b[38;5;28;01mraise\u001b[39;00m \u001b[38;5;167;01mValueError\u001b[39;00m(\u001b[38;5;124mf\u001b[39m\u001b[38;5;124m'\u001b[39m\u001b[38;5;124mAmbiguous search term \u001b[39m\u001b[38;5;124m\"\u001b[39m\u001b[38;5;132;01m{\u001b[39;00mterm\u001b[38;5;132;01m}\u001b[39;00m\u001b[38;5;124m\"\u001b[39m\u001b[38;5;124m'\u001b[39m)\n",
      "\u001b[1;31mValueError\u001b[0m: Invalid search term \"eid\", see `one.search_terms()`"
     ]
    }
   ],
   "source": [
    "import os\n",
    "import numpy as np\n",
    "from one.api import ONE\n",
    "\n",
    "# Initialize ONE instance\n",
    "one = ONE(silent=True, password='international')\n",
    "\n",
    "# Define your session ID and video dataset name\n",
    "session_id = 'db4df448-e449-4a6f-a0e7-288711e7a75a'  # Replace with your session ID or other identifiers\n",
    "# video_name = 'your_video_name'  # Replace with the actual video dataset name\n",
    "# save_path = 'path/to/save/video.mp4'  # Replace with your desired save path\n",
    "\n",
    "# Search for a session\n",
    "session = one.search(eid=session_id)  # Ensure this method is appropriate for your search criteria\n",
    "session\n",
    "\n",
    "# Load the video dataset\n",
    "# video_data = one.load_dataset(dataset_type='video', dataset_name=video_name)  # Adjust parameters based on dataset type and name\n",
    "\n",
    "# If the video data is a numpy array or similar, you might need to save it properly\n",
    "# Here's a generic way to handle video saving if you have raw data\n",
    "# with open(save_path, 'wb') as f:\n",
    "#     f.write(video_data)\n",
    "\n",
    "# print(f'Video saved to {save_path}')\n"
   ]
  },
  {
   "cell_type": "code",
   "execution_count": 50,
   "metadata": {},
   "outputs": [
    {
     "data": {
      "text/plain": [
       "('dataset',\n",
       " 'date_range',\n",
       " 'laboratory',\n",
       " 'number',\n",
       " 'projects',\n",
       " 'subject',\n",
       " 'task_protocol',\n",
       " 'dataset_qc_lte')"
      ]
     },
     "execution_count": 50,
     "metadata": {},
     "output_type": "execute_result"
    }
   ],
   "source": [
    "one.search_terms()"
   ]
  }
 ],
 "metadata": {
  "kernelspec": {
   "display_name": "plab",
   "language": "python",
   "name": "python3"
  },
  "language_info": {
   "codemirror_mode": {
    "name": "ipython",
    "version": 3
   },
   "file_extension": ".py",
   "mimetype": "text/x-python",
   "name": "python",
   "nbconvert_exporter": "python",
   "pygments_lexer": "ipython3",
   "version": "3.10.8"
  }
 },
 "nbformat": 4,
 "nbformat_minor": 2
}
